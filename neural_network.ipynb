{
 "cells": [
  {
   "cell_type": "code",
   "execution_count": 2,
   "id": "d0c87926",
   "metadata": {
    "executionInfo": {
     "elapsed": 3979,
     "status": "ok",
     "timestamp": 1681422852940,
     "user": {
      "displayName": "Stanley Nyarko Aboagye",
      "userId": "01236948860682234042"
     },
     "user_tz": -60
    },
    "id": "d0c87926"
   },
   "outputs": [],
   "source": [
    "from sklearn.model_selection import train_test_split\n",
    "from sklearn.preprocessing import StandardScaler\n",
    "from sklearn.metrics import accuracy_score, classification_report\n",
    "import tensorflow as tf\n",
    "\n",
    "import pandas as pd\n",
    "import numpy as np\n",
    "from collections import Counter\n",
    "\n",
    "import warnings\n",
    "warnings.filterwarnings('ignore')"
   ]
  },
  {
   "cell_type": "markdown",
   "id": "Ar6AokWTNg_N",
   "metadata": {
    "id": "Ar6AokWTNg_N"
   },
   "source": [
    "## Extracting the .csv file "
   ]
  },
  {
   "cell_type": "code",
   "execution_count": 3,
   "id": "6b8419d0",
   "metadata": {
    "executionInfo": {
     "elapsed": 1358,
     "status": "ok",
     "timestamp": 1681422854291,
     "user": {
      "displayName": "Stanley Nyarko Aboagye",
      "userId": "01236948860682234042"
     },
     "user_tz": -60
    },
    "id": "6b8419d0"
   },
   "outputs": [],
   "source": [
    "full_df = pd.read_csv(\"Output/full_data.csv\")"
   ]
  },
  {
   "cell_type": "code",
   "execution_count": 4,
   "id": "292296ba",
   "metadata": {
    "colab": {
     "base_uri": "https://localhost:8080/",
     "height": 299
    },
    "executionInfo": {
     "elapsed": 35,
     "status": "ok",
     "timestamp": 1681422854293,
     "user": {
      "displayName": "Stanley Nyarko Aboagye",
      "userId": "01236948860682234042"
     },
     "user_tz": -60
    },
    "id": "292296ba",
    "outputId": "a5843929-a81b-41ad-d947-1fab4af736b7"
   },
   "outputs": [
    {
     "data": {
      "text/html": [
       "<div>\n",
       "<style scoped>\n",
       "    .dataframe tbody tr th:only-of-type {\n",
       "        vertical-align: middle;\n",
       "    }\n",
       "\n",
       "    .dataframe tbody tr th {\n",
       "        vertical-align: top;\n",
       "    }\n",
       "\n",
       "    .dataframe thead th {\n",
       "        text-align: right;\n",
       "    }\n",
       "</style>\n",
       "<table border=\"1\" class=\"dataframe\">\n",
       "  <thead>\n",
       "    <tr style=\"text-align: right;\">\n",
       "      <th></th>\n",
       "      <th>CNT_CHILDREN</th>\n",
       "      <th>AMT_INCOME_TOTAL</th>\n",
       "      <th>NAME_INCOME_TYPE</th>\n",
       "      <th>NAME_EDUCATION_TYPE</th>\n",
       "      <th>NAME_FAMILY_STATUS</th>\n",
       "      <th>NAME_HOUSING_TYPE</th>\n",
       "      <th>DAYS_BIRTH</th>\n",
       "      <th>DAYS_EMPLOYED</th>\n",
       "      <th>FLAG_MOBIL</th>\n",
       "      <th>FLAG_WORK_PHONE</th>\n",
       "      <th>...</th>\n",
       "      <th>FLAG_EMAIL</th>\n",
       "      <th>OCCUPATION_TYPE</th>\n",
       "      <th>CNT_FAM_MEMBERS</th>\n",
       "      <th>CODE_GENDER_F</th>\n",
       "      <th>CODE_GENDER_M</th>\n",
       "      <th>FLAG_OWN_CAR_N</th>\n",
       "      <th>FLAG_OWN_CAR_Y</th>\n",
       "      <th>FLAG_OWN_REALTY_N</th>\n",
       "      <th>FLAG_OWN_REALTY_Y</th>\n",
       "      <th>STATUS</th>\n",
       "    </tr>\n",
       "  </thead>\n",
       "  <tbody>\n",
       "    <tr>\n",
       "      <th>0</th>\n",
       "      <td>0</td>\n",
       "      <td>427500.0</td>\n",
       "      <td>2</td>\n",
       "      <td>3</td>\n",
       "      <td>3</td>\n",
       "      <td>1</td>\n",
       "      <td>-12005</td>\n",
       "      <td>-4542</td>\n",
       "      <td>1</td>\n",
       "      <td>1</td>\n",
       "      <td>...</td>\n",
       "      <td>0</td>\n",
       "      <td>0</td>\n",
       "      <td>2.0</td>\n",
       "      <td>0</td>\n",
       "      <td>1</td>\n",
       "      <td>0</td>\n",
       "      <td>1</td>\n",
       "      <td>0</td>\n",
       "      <td>1</td>\n",
       "      <td>1</td>\n",
       "    </tr>\n",
       "    <tr>\n",
       "      <th>1</th>\n",
       "      <td>0</td>\n",
       "      <td>427500.0</td>\n",
       "      <td>2</td>\n",
       "      <td>3</td>\n",
       "      <td>3</td>\n",
       "      <td>1</td>\n",
       "      <td>-12005</td>\n",
       "      <td>-4542</td>\n",
       "      <td>1</td>\n",
       "      <td>1</td>\n",
       "      <td>...</td>\n",
       "      <td>0</td>\n",
       "      <td>0</td>\n",
       "      <td>2.0</td>\n",
       "      <td>0</td>\n",
       "      <td>1</td>\n",
       "      <td>0</td>\n",
       "      <td>1</td>\n",
       "      <td>0</td>\n",
       "      <td>1</td>\n",
       "      <td>1</td>\n",
       "    </tr>\n",
       "    <tr>\n",
       "      <th>2</th>\n",
       "      <td>0</td>\n",
       "      <td>112500.0</td>\n",
       "      <td>2</td>\n",
       "      <td>1</td>\n",
       "      <td>4</td>\n",
       "      <td>2</td>\n",
       "      <td>-21474</td>\n",
       "      <td>-1134</td>\n",
       "      <td>1</td>\n",
       "      <td>0</td>\n",
       "      <td>...</td>\n",
       "      <td>0</td>\n",
       "      <td>2</td>\n",
       "      <td>2.0</td>\n",
       "      <td>0</td>\n",
       "      <td>1</td>\n",
       "      <td>0</td>\n",
       "      <td>1</td>\n",
       "      <td>0</td>\n",
       "      <td>1</td>\n",
       "      <td>0</td>\n",
       "    </tr>\n",
       "    <tr>\n",
       "      <th>3</th>\n",
       "      <td>0</td>\n",
       "      <td>270000.0</td>\n",
       "      <td>2</td>\n",
       "      <td>1</td>\n",
       "      <td>0</td>\n",
       "      <td>2</td>\n",
       "      <td>-19110</td>\n",
       "      <td>-3051</td>\n",
       "      <td>1</td>\n",
       "      <td>0</td>\n",
       "      <td>...</td>\n",
       "      <td>1</td>\n",
       "      <td>3</td>\n",
       "      <td>1.0</td>\n",
       "      <td>1</td>\n",
       "      <td>0</td>\n",
       "      <td>1</td>\n",
       "      <td>0</td>\n",
       "      <td>0</td>\n",
       "      <td>1</td>\n",
       "      <td>0</td>\n",
       "    </tr>\n",
       "    <tr>\n",
       "      <th>4</th>\n",
       "      <td>0</td>\n",
       "      <td>270000.0</td>\n",
       "      <td>2</td>\n",
       "      <td>1</td>\n",
       "      <td>0</td>\n",
       "      <td>2</td>\n",
       "      <td>-19110</td>\n",
       "      <td>-3051</td>\n",
       "      <td>1</td>\n",
       "      <td>0</td>\n",
       "      <td>...</td>\n",
       "      <td>1</td>\n",
       "      <td>3</td>\n",
       "      <td>1.0</td>\n",
       "      <td>1</td>\n",
       "      <td>0</td>\n",
       "      <td>1</td>\n",
       "      <td>0</td>\n",
       "      <td>0</td>\n",
       "      <td>1</td>\n",
       "      <td>0</td>\n",
       "    </tr>\n",
       "  </tbody>\n",
       "</table>\n",
       "<p>5 rows × 21 columns</p>\n",
       "</div>"
      ],
      "text/plain": [
       "   CNT_CHILDREN  AMT_INCOME_TOTAL  NAME_INCOME_TYPE  NAME_EDUCATION_TYPE  \\\n",
       "0             0          427500.0                 2                    3   \n",
       "1             0          427500.0                 2                    3   \n",
       "2             0          112500.0                 2                    1   \n",
       "3             0          270000.0                 2                    1   \n",
       "4             0          270000.0                 2                    1   \n",
       "\n",
       "   NAME_FAMILY_STATUS  NAME_HOUSING_TYPE  DAYS_BIRTH  DAYS_EMPLOYED  \\\n",
       "0                   3                  1      -12005          -4542   \n",
       "1                   3                  1      -12005          -4542   \n",
       "2                   4                  2      -21474          -1134   \n",
       "3                   0                  2      -19110          -3051   \n",
       "4                   0                  2      -19110          -3051   \n",
       "\n",
       "   FLAG_MOBIL  FLAG_WORK_PHONE  ...  FLAG_EMAIL  OCCUPATION_TYPE  \\\n",
       "0           1                1  ...           0                0   \n",
       "1           1                1  ...           0                0   \n",
       "2           1                0  ...           0                2   \n",
       "3           1                0  ...           1                3   \n",
       "4           1                0  ...           1                3   \n",
       "\n",
       "   CNT_FAM_MEMBERS  CODE_GENDER_F  CODE_GENDER_M  FLAG_OWN_CAR_N  \\\n",
       "0              2.0              0              1               0   \n",
       "1              2.0              0              1               0   \n",
       "2              2.0              0              1               0   \n",
       "3              1.0              1              0               1   \n",
       "4              1.0              1              0               1   \n",
       "\n",
       "   FLAG_OWN_CAR_Y  FLAG_OWN_REALTY_N  FLAG_OWN_REALTY_Y  STATUS  \n",
       "0               1                  0                  1       1  \n",
       "1               1                  0                  1       1  \n",
       "2               1                  0                  1       0  \n",
       "3               0                  0                  1       0  \n",
       "4               0                  0                  1       0  \n",
       "\n",
       "[5 rows x 21 columns]"
      ]
     },
     "execution_count": 4,
     "metadata": {},
     "output_type": "execute_result"
    }
   ],
   "source": [
    "# preview dataframe\n",
    "full_df.head()"
   ]
  },
  {
   "cell_type": "code",
   "execution_count": 5,
   "id": "taFmV6FARoiL",
   "metadata": {
    "colab": {
     "base_uri": "https://localhost:8080/"
    },
    "executionInfo": {
     "elapsed": 33,
     "status": "ok",
     "timestamp": 1681422854294,
     "user": {
      "displayName": "Stanley Nyarko Aboagye",
      "userId": "01236948860682234042"
     },
     "user_tz": -60
    },
    "id": "taFmV6FARoiL",
    "outputId": "2f798ea5-3535-4f0e-b3ea-260e887a19a3"
   },
   "outputs": [
    {
     "data": {
      "text/plain": [
       "CNT_CHILDREN             int64\n",
       "AMT_INCOME_TOTAL       float64\n",
       "NAME_INCOME_TYPE         int64\n",
       "NAME_EDUCATION_TYPE      int64\n",
       "NAME_FAMILY_STATUS       int64\n",
       "NAME_HOUSING_TYPE        int64\n",
       "DAYS_BIRTH               int64\n",
       "DAYS_EMPLOYED            int64\n",
       "FLAG_MOBIL               int64\n",
       "FLAG_WORK_PHONE          int64\n",
       "FLAG_PHONE               int64\n",
       "FLAG_EMAIL               int64\n",
       "OCCUPATION_TYPE          int64\n",
       "CNT_FAM_MEMBERS        float64\n",
       "CODE_GENDER_F            int64\n",
       "CODE_GENDER_M            int64\n",
       "FLAG_OWN_CAR_N           int64\n",
       "FLAG_OWN_CAR_Y           int64\n",
       "FLAG_OWN_REALTY_N        int64\n",
       "FLAG_OWN_REALTY_Y        int64\n",
       "STATUS                   int64\n",
       "dtype: object"
      ]
     },
     "execution_count": 5,
     "metadata": {},
     "output_type": "execute_result"
    }
   ],
   "source": [
    "full_df.dtypes"
   ]
  },
  {
   "cell_type": "markdown",
   "id": "8gHh9UGX8mC5",
   "metadata": {
    "id": "8gHh9UGX8mC5"
   },
   "source": [
    "## Extracting features and labels and scaling"
   ]
  },
  {
   "cell_type": "code",
   "execution_count": 6,
   "id": "c511dcb7",
   "metadata": {
    "executionInfo": {
     "elapsed": 27,
     "status": "ok",
     "timestamp": 1681422854294,
     "user": {
      "displayName": "Stanley Nyarko Aboagye",
      "userId": "01236948860682234042"
     },
     "user_tz": -60
    },
    "id": "c511dcb7"
   },
   "outputs": [],
   "source": [
    "# Remove STATUS target from features data\n",
    "y = full_df.STATUS.values\n",
    "X = full_df.drop(columns=\"STATUS\")"
   ]
  },
  {
   "cell_type": "code",
   "execution_count": 7,
   "id": "496514c8",
   "metadata": {
    "colab": {
     "base_uri": "https://localhost:8080/"
    },
    "executionInfo": {
     "elapsed": 27,
     "status": "ok",
     "timestamp": 1681422854295,
     "user": {
      "displayName": "Stanley Nyarko Aboagye",
      "userId": "01236948860682234042"
     },
     "user_tz": -60
    },
    "id": "496514c8",
    "outputId": "c8591322-1e29-4cc3-d6a3-eb3ab5dc2517"
   },
   "outputs": [
    {
     "name": "stdout",
     "output_type": "stream",
     "text": [
      "Labels (y)\n",
      "-----------------\n",
      "[1 1 0 ... 1 1 1]\n",
      "=================\n",
      "\n",
      "=================\n",
      "Features (X)\n",
      "-----------------\n",
      "       CNT_CHILDREN  AMT_INCOME_TOTAL  NAME_INCOME_TYPE  NAME_EDUCATION_TYPE  \\\n",
      "0                 0          427500.0                 2                    3   \n",
      "1                 0          427500.0                 2                    3   \n",
      "2                 0          112500.0                 2                    1   \n",
      "3                 0          270000.0                 2                    1   \n",
      "4                 0          270000.0                 2                    1   \n",
      "...             ...               ...               ...                  ...   \n",
      "33105             0          315000.0                 2                    1   \n",
      "33106             0          157500.0                 2                    3   \n",
      "33107             0          157500.0                 1                    3   \n",
      "33108             0          283500.0                 2                    1   \n",
      "33109             0          112500.0                 2                    1   \n",
      "\n",
      "       NAME_FAMILY_STATUS  NAME_HOUSING_TYPE  DAYS_BIRTH  DAYS_EMPLOYED  \\\n",
      "0                       3                  1      -12005          -4542   \n",
      "1                       3                  1      -12005          -4542   \n",
      "2                       4                  2      -21474          -1134   \n",
      "3                       0                  2      -19110          -3051   \n",
      "4                       0                  2      -19110          -3051   \n",
      "...                   ...                ...         ...            ...   \n",
      "33105                   4                  2      -17348          -2420   \n",
      "33106                   4                  2      -12387          -1325   \n",
      "33107                   4                  2      -12387          -1325   \n",
      "33108                   4                  2      -17958           -655   \n",
      "33109                   0                  1       -9188          -1193   \n",
      "\n",
      "       FLAG_MOBIL  FLAG_WORK_PHONE  FLAG_PHONE  FLAG_EMAIL  OCCUPATION_TYPE  \\\n",
      "0               1                1           0           0                0   \n",
      "1               1                1           0           0                0   \n",
      "2               1                0           0           0                2   \n",
      "3               1                0           1           1                3   \n",
      "4               1                0           1           1                3   \n",
      "...           ...              ...         ...         ...              ...   \n",
      "33105           1                0           0           0                5   \n",
      "33106           1                0           1           1                6   \n",
      "33107           1                0           1           1                6   \n",
      "33108           1                0           0           0                3   \n",
      "33109           1                0           0           0                1   \n",
      "\n",
      "       CNT_FAM_MEMBERS  CODE_GENDER_F  CODE_GENDER_M  FLAG_OWN_CAR_N  \\\n",
      "0                  2.0              0              1               0   \n",
      "1                  2.0              0              1               0   \n",
      "2                  2.0              0              1               0   \n",
      "3                  1.0              1              0               1   \n",
      "4                  1.0              1              0               1   \n",
      "...                ...            ...            ...             ...   \n",
      "33105              2.0              0              1               0   \n",
      "33106              2.0              1              0               1   \n",
      "33107              2.0              1              0               1   \n",
      "33108              2.0              1              0               1   \n",
      "33109              1.0              0              1               1   \n",
      "\n",
      "       FLAG_OWN_CAR_Y  FLAG_OWN_REALTY_N  FLAG_OWN_REALTY_Y  \n",
      "0                   1                  0                  1  \n",
      "1                   1                  0                  1  \n",
      "2                   1                  0                  1  \n",
      "3                   0                  0                  1  \n",
      "4                   0                  0                  1  \n",
      "...               ...                ...                ...  \n",
      "33105               1                  0                  1  \n",
      "33106               0                  0                  1  \n",
      "33107               0                  0                  1  \n",
      "33108               0                  0                  1  \n",
      "33109               0                  0                  1  \n",
      "\n",
      "[33110 rows x 20 columns]\n"
     ]
    }
   ],
   "source": [
    "print(f\"Labels (y)\\n-----------------\\n{y}\\n=================\\n\\n=================\")\n",
    "print(f\"Features (X)\\n-----------------\\n{X}\")"
   ]
  },
  {
   "cell_type": "code",
   "execution_count": 8,
   "id": "cpiUVN7ksFvR",
   "metadata": {
    "executionInfo": {
     "elapsed": 24,
     "status": "ok",
     "timestamp": 1681422855834,
     "user": {
      "displayName": "Stanley Nyarko Aboagye",
      "userId": "01236948860682234042"
     },
     "user_tz": -60
    },
    "id": "cpiUVN7ksFvR"
   },
   "outputs": [],
   "source": [
    "# Split training/test datasets\n",
    "X_train, X_test, y_train, y_test = train_test_split(X, y, random_state=42)"
   ]
  },
  {
   "cell_type": "code",
   "execution_count": 9,
   "id": "7db46c58",
   "metadata": {
    "executionInfo": {
     "elapsed": 24,
     "status": "ok",
     "timestamp": 1681422855835,
     "user": {
      "displayName": "Stanley Nyarko Aboagye",
      "userId": "01236948860682234042"
     },
     "user_tz": -60
    },
    "id": "7db46c58"
   },
   "outputs": [],
   "source": [
    "# Create a StandardScaler instances\n",
    "scaler = StandardScaler()\n",
    "\n",
    "# Fit the StandardScaler\n",
    "X_scaler = scaler.fit(X_train)\n",
    "\n",
    "# Scale the data\n",
    "X_train_scaled = X_scaler.transform(X_train)\n",
    "X_test_scaled = X_scaler.transform(X_test)"
   ]
  },
  {
   "cell_type": "markdown",
   "id": "wzWL5qzO3FVh",
   "metadata": {
    "id": "wzWL5qzO3FVh"
   },
   "source": [
    "## Modeling"
   ]
  },
  {
   "cell_type": "markdown",
   "id": "OZCTQWzcvnol",
   "metadata": {
    "id": "OZCTQWzcvnol"
   },
   "source": [
    "### Preoptimization"
   ]
  },
  {
   "cell_type": "code",
   "execution_count": 10,
   "id": "ee44ca3a",
   "metadata": {
    "colab": {
     "base_uri": "https://localhost:8080/"
    },
    "executionInfo": {
     "elapsed": 24,
     "status": "ok",
     "timestamp": 1681422855839,
     "user": {
      "displayName": "Stanley Nyarko Aboagye",
      "userId": "01236948860682234042"
     },
     "user_tz": -60
    },
    "id": "ee44ca3a",
    "outputId": "571d7561-ebea-4956-860b-bb8cf94907f5"
   },
   "outputs": [
    {
     "name": "stdout",
     "output_type": "stream",
     "text": [
      "Model: \"sequential\"\n",
      "_________________________________________________________________\n",
      " Layer (type)                Output Shape              Param #   \n",
      "=================================================================\n",
      " dense (Dense)               (None, 20)                420       \n",
      "                                                                 \n",
      " dense_1 (Dense)             (None, 10)                210       \n",
      "                                                                 \n",
      " dense_2 (Dense)             (None, 1)                 11        \n",
      "                                                                 \n",
      "=================================================================\n",
      "Total params: 641\n",
      "Trainable params: 641\n",
      "Non-trainable params: 0\n",
      "_________________________________________________________________\n",
      "None\n"
     ]
    }
   ],
   "source": [
    "# Define the model - deep neural net, i.e., the number of input features and hidden nodes for each layer.\n",
    "number_input_features = len(X_train_scaled[0])\n",
    "hidden_nodes_layer1 =  20\n",
    "hidden_nodes_layer2 =  10\n",
    "outer_layer = 1\n",
    "\n",
    "# Define the deep learning model \n",
    "nn_model = tf.keras.models.Sequential()\n",
    "\n",
    "# First hidden layer\n",
    "nn_model.add(tf.keras.layers.Dense(units=hidden_nodes_layer1, activation=\"relu\", input_dim=number_input_features))\n",
    "\n",
    "# Second hidden layer\n",
    "nn_model.add(tf.keras.layers.Dense(units=hidden_nodes_layer2, activation=\"relu\"))\n",
    "\n",
    "# Output layer\n",
    "nn_model.add(tf.keras.layers.Dense(units=outer_layer, activation=\"sigmoid\"))\n",
    "\n",
    "# Check the structure of the model\n",
    "print(nn_model.summary())"
   ]
  },
  {
   "cell_type": "code",
   "execution_count": 11,
   "id": "1j23qo02MZcx",
   "metadata": {
    "executionInfo": {
     "elapsed": 15,
     "status": "ok",
     "timestamp": 1681422855840,
     "user": {
      "displayName": "Stanley Nyarko Aboagye",
      "userId": "01236948860682234042"
     },
     "user_tz": -60
    },
    "id": "1j23qo02MZcx"
   },
   "outputs": [],
   "source": [
    "# Compile the Sequential model together and customize metrics\n",
    "nn_model.compile(loss=\"binary_crossentropy\", optimizer=\"adam\", metrics=[\"accuracy\"])"
   ]
  },
  {
   "cell_type": "code",
   "execution_count": 12,
   "id": "l19qGgM2Ivrk",
   "metadata": {
    "colab": {
     "base_uri": "https://localhost:8080/"
    },
    "executionInfo": {
     "elapsed": 120883,
     "status": "ok",
     "timestamp": 1681422976709,
     "user": {
      "displayName": "Stanley Nyarko Aboagye",
      "userId": "01236948860682234042"
     },
     "user_tz": -60
    },
    "id": "l19qGgM2Ivrk",
    "outputId": "261fb11c-c3fd-4ad8-b93a-d4f413a03e3a"
   },
   "outputs": [
    {
     "name": "stdout",
     "output_type": "stream",
     "text": [
      "Epoch 1/50\n",
      "776/776 [==============================] - 1s 971us/step - loss: 0.4226 - accuracy: 0.8513\n",
      "Epoch 2/50\n",
      "776/776 [==============================] - 1s 961us/step - loss: 0.3893 - accuracy: 0.8692\n",
      "Epoch 3/50\n",
      "776/776 [==============================] - 1s 948us/step - loss: 0.3865 - accuracy: 0.8692\n",
      "Epoch 4/50\n",
      "776/776 [==============================] - 1s 934us/step - loss: 0.3846 - accuracy: 0.8692\n",
      "Epoch 5/50\n",
      "776/776 [==============================] - 1s 938us/step - loss: 0.3836 - accuracy: 0.8692\n",
      "Epoch 6/50\n",
      "776/776 [==============================] - 1s 930us/step - loss: 0.3827 - accuracy: 0.8692\n",
      "Epoch 7/50\n",
      "776/776 [==============================] - 1s 960us/step - loss: 0.3815 - accuracy: 0.8692\n",
      "Epoch 8/50\n",
      "776/776 [==============================] - 1s 943us/step - loss: 0.3807 - accuracy: 0.8692\n",
      "Epoch 9/50\n",
      "776/776 [==============================] - 1s 1ms/step - loss: 0.3799 - accuracy: 0.8692\n",
      "Epoch 10/50\n",
      "776/776 [==============================] - 1s 939us/step - loss: 0.3793 - accuracy: 0.8692\n",
      "Epoch 11/50\n",
      "776/776 [==============================] - 1s 934us/step - loss: 0.3784 - accuracy: 0.8693\n",
      "Epoch 12/50\n",
      "776/776 [==============================] - 1s 947us/step - loss: 0.3779 - accuracy: 0.8693\n",
      "Epoch 13/50\n",
      "776/776 [==============================] - 1s 957us/step - loss: 0.3770 - accuracy: 0.8695\n",
      "Epoch 14/50\n",
      "776/776 [==============================] - 1s 963us/step - loss: 0.3763 - accuracy: 0.8695\n",
      "Epoch 15/50\n",
      "776/776 [==============================] - 1s 939us/step - loss: 0.3758 - accuracy: 0.8697\n",
      "Epoch 16/50\n",
      "776/776 [==============================] - 1s 926us/step - loss: 0.3754 - accuracy: 0.8696\n",
      "Epoch 17/50\n",
      "776/776 [==============================] - 1s 940us/step - loss: 0.3748 - accuracy: 0.8696\n",
      "Epoch 18/50\n",
      "776/776 [==============================] - 1s 929us/step - loss: 0.3744 - accuracy: 0.8698\n",
      "Epoch 19/50\n",
      "776/776 [==============================] - 1s 954us/step - loss: 0.3740 - accuracy: 0.8698\n",
      "Epoch 20/50\n",
      "776/776 [==============================] - 1s 955us/step - loss: 0.3737 - accuracy: 0.8699\n",
      "Epoch 21/50\n",
      "776/776 [==============================] - 1s 946us/step - loss: 0.3731 - accuracy: 0.8702\n",
      "Epoch 22/50\n",
      "776/776 [==============================] - 1s 935us/step - loss: 0.3729 - accuracy: 0.8704\n",
      "Epoch 23/50\n",
      "776/776 [==============================] - 1s 951us/step - loss: 0.3728 - accuracy: 0.8704\n",
      "Epoch 24/50\n",
      "776/776 [==============================] - 1s 937us/step - loss: 0.3724 - accuracy: 0.8704\n",
      "Epoch 25/50\n",
      "776/776 [==============================] - 1s 948us/step - loss: 0.3717 - accuracy: 0.8707\n",
      "Epoch 26/50\n",
      "776/776 [==============================] - 1s 961us/step - loss: 0.3714 - accuracy: 0.8708\n",
      "Epoch 27/50\n",
      "776/776 [==============================] - 1s 939us/step - loss: 0.3711 - accuracy: 0.8708\n",
      "Epoch 28/50\n",
      "776/776 [==============================] - 1s 939us/step - loss: 0.3711 - accuracy: 0.8707\n",
      "Epoch 29/50\n",
      "776/776 [==============================] - 1s 943us/step - loss: 0.3707 - accuracy: 0.8706\n",
      "Epoch 30/50\n",
      "776/776 [==============================] - 1s 945us/step - loss: 0.3707 - accuracy: 0.8707\n",
      "Epoch 31/50\n",
      "776/776 [==============================] - 1s 955us/step - loss: 0.3704 - accuracy: 0.8709\n",
      "Epoch 32/50\n",
      "776/776 [==============================] - 1s 979us/step - loss: 0.3699 - accuracy: 0.8706\n",
      "Epoch 33/50\n",
      "776/776 [==============================] - 1s 935us/step - loss: 0.3698 - accuracy: 0.8708\n",
      "Epoch 34/50\n",
      "776/776 [==============================] - 1s 946us/step - loss: 0.3697 - accuracy: 0.8707\n",
      "Epoch 35/50\n",
      "776/776 [==============================] - 1s 941us/step - loss: 0.3695 - accuracy: 0.8709\n",
      "Epoch 36/50\n",
      "776/776 [==============================] - 1s 944us/step - loss: 0.3692 - accuracy: 0.8712\n",
      "Epoch 37/50\n",
      "776/776 [==============================] - 1s 963us/step - loss: 0.3690 - accuracy: 0.8712\n",
      "Epoch 38/50\n",
      "776/776 [==============================] - 1s 964us/step - loss: 0.3688 - accuracy: 0.8707\n",
      "Epoch 39/50\n",
      "776/776 [==============================] - 1s 940us/step - loss: 0.3686 - accuracy: 0.8708\n",
      "Epoch 40/50\n",
      "776/776 [==============================] - 1s 940us/step - loss: 0.3683 - accuracy: 0.8708\n",
      "Epoch 41/50\n",
      "776/776 [==============================] - 1s 954us/step - loss: 0.3683 - accuracy: 0.8714\n",
      "Epoch 42/50\n",
      "776/776 [==============================] - 1s 959us/step - loss: 0.3681 - accuracy: 0.8714\n",
      "Epoch 43/50\n",
      "776/776 [==============================] - 1s 954us/step - loss: 0.3678 - accuracy: 0.8712\n",
      "Epoch 44/50\n",
      "776/776 [==============================] - 1s 955us/step - loss: 0.3678 - accuracy: 0.8713\n",
      "Epoch 45/50\n",
      "776/776 [==============================] - 1s 959us/step - loss: 0.3676 - accuracy: 0.8715\n",
      "Epoch 46/50\n",
      "776/776 [==============================] - 1s 943us/step - loss: 0.3671 - accuracy: 0.8712\n",
      "Epoch 47/50\n",
      "776/776 [==============================] - 1s 942us/step - loss: 0.3669 - accuracy: 0.8719\n",
      "Epoch 48/50\n",
      "776/776 [==============================] - 1s 952us/step - loss: 0.3672 - accuracy: 0.8711\n",
      "Epoch 49/50\n",
      "776/776 [==============================] - 1s 968us/step - loss: 0.3667 - accuracy: 0.8717\n",
      "Epoch 50/50\n",
      "776/776 [==============================] - 1s 969us/step - loss: 0.3666 - accuracy: 0.8716\n"
     ]
    }
   ],
   "source": [
    "# Train the model\n",
    "fit_model = nn_model.fit(X_train_scaled, y_train, epochs=50)"
   ]
  },
  {
   "cell_type": "code",
   "execution_count": 13,
   "id": "MrF1NdwuIvuD",
   "metadata": {
    "colab": {
     "base_uri": "https://localhost:8080/"
    },
    "executionInfo": {
     "elapsed": 1541,
     "status": "ok",
     "timestamp": 1681423089688,
     "user": {
      "displayName": "Stanley Nyarko Aboagye",
      "userId": "01236948860682234042"
     },
     "user_tz": -60
    },
    "id": "MrF1NdwuIvuD",
    "outputId": "1dfa3e88-55bc-4295-fac5-0020cf65dcc2"
   },
   "outputs": [
    {
     "name": "stdout",
     "output_type": "stream",
     "text": [
      "259/259 - 0s - loss: 0.3750 - accuracy: 0.8744 - 351ms/epoch - 1ms/step\n",
      "Loss: 0.3749982416629791, Accuracy: 0.8743658065795898\n"
     ]
    }
   ],
   "source": [
    "# Evaluate the model using the test data \n",
    "nn_model_loss, nn_model_accuracy = nn_model.evaluate(X_test_scaled, y_test, verbose=2)\n",
    "print(f\"Loss: {nn_model_loss}, Accuracy: {nn_model_accuracy}\")"
   ]
  },
  {
   "cell_type": "code",
   "execution_count": null,
   "id": "fa9122aa",
   "metadata": {},
   "outputs": [],
   "source": []
  },
  {
   "cell_type": "code",
   "execution_count": null,
   "id": "287522bc",
   "metadata": {},
   "outputs": [],
   "source": []
  },
  {
   "cell_type": "code",
   "execution_count": null,
   "id": "c7670eb0",
   "metadata": {},
   "outputs": [],
   "source": []
  },
  {
   "cell_type": "code",
   "execution_count": null,
   "id": "f7f8d1e8",
   "metadata": {},
   "outputs": [],
   "source": []
  },
  {
   "cell_type": "markdown",
   "id": "Se0pTqW0lbev",
   "metadata": {
    "id": "Se0pTqW0lbev"
   },
   "source": [
    "### Auto Optimization using Hyperparameter tuning"
   ]
  },
  {
   "cell_type": "code",
   "execution_count": 14,
   "id": "EvILQrwLIvyc",
   "metadata": {
    "executionInfo": {
     "elapsed": 167,
     "status": "ok",
     "timestamp": 1681423092888,
     "user": {
      "displayName": "Stanley Nyarko Aboagye",
      "userId": "01236948860682234042"
     },
     "user_tz": -60
    },
    "id": "EvILQrwLIvyc"
   },
   "outputs": [],
   "source": [
    "# Create a method that creates a new Sequential model with hyperparameter options\n",
    "def create_model(hp):\n",
    "    nn_model = tf.keras.models.Sequential()\n",
    "\n",
    "    # Allow kerastuner to decide which activation function to use in hidden layers\n",
    "    activation = hp.Choice('activation',['relu','tanh','sigmoid'])\n",
    "    \n",
    "    # Allow kerastuner to decide number of neurons in first layer\n",
    "    nn_model.add(tf.keras.layers.Dense(units=hp.Int('first_units',\n",
    "        min_value=1,\n",
    "        max_value=10,\n",
    "        step=2), activation=activation, input_dim=len(X_train_scaled[0])))\n",
    "\n",
    "    # Allow kerastuner to decide number of hidden layers and neurons in hidden layers\n",
    "    for i in range(hp.Int('num_layers', 1, 6)):\n",
    "        nn_model.add(tf.keras.layers.Dense(units=hp.Int('units_' + str(i),\n",
    "            min_value=1,\n",
    "            max_value=10,\n",
    "            step=2),\n",
    "            activation=activation))\n",
    "    \n",
    "    nn_model.add(tf.keras.layers.Dense(units=1, activation=\"sigmoid\"))\n",
    "\n",
    "    # Compile the model\n",
    "    nn_model.compile(loss=\"binary_crossentropy\", optimizer='adam', metrics=[\"accuracy\"])\n",
    "    \n",
    "    return nn_model"
   ]
  },
  {
   "cell_type": "code",
   "execution_count": 15,
   "id": "jctZ6S_ElgR5",
   "metadata": {
    "executionInfo": {
     "elapsed": 254,
     "status": "ok",
     "timestamp": 1681423096294,
     "user": {
      "displayName": "Stanley Nyarko Aboagye",
      "userId": "01236948860682234042"
     },
     "user_tz": -60
    },
    "id": "jctZ6S_ElgR5"
   },
   "outputs": [],
   "source": [
    "# Import the kerastuner library\n",
    "import keras_tuner as kt\n",
    "\n",
    "tuner = kt.Hyperband(\n",
    "    create_model,\n",
    "    objective=\"val_accuracy\",\n",
    "    max_epochs=20,\n",
    "    hyperband_iterations=2)"
   ]
  },
  {
   "cell_type": "code",
   "execution_count": 16,
   "id": "PDITQaDalgUB",
   "metadata": {
    "executionInfo": {
     "elapsed": 223,
     "status": "ok",
     "timestamp": 1681424992051,
     "user": {
      "displayName": "Stanley Nyarko Aboagye",
      "userId": "01236948860682234042"
     },
     "user_tz": -60
    },
    "id": "PDITQaDalgUB"
   },
   "outputs": [
    {
     "name": "stdout",
     "output_type": "stream",
     "text": [
      "Trial 60 Complete [00h 01m 10s]\n",
      "val_accuracy: 0.8741241693496704\n",
      "\n",
      "Best val_accuracy So Far: 0.8750905990600586\n",
      "Total elapsed time: 00h 17m 16s\n",
      "INFO:tensorflow:Oracle triggered exit\n"
     ]
    }
   ],
   "source": [
    "# Run the kerastuner search for best hyperparameters\n",
    "tuner.search(X_train_scaled,y_train,epochs=20,validation_data=(X_test_scaled,y_test))"
   ]
  },
  {
   "cell_type": "code",
   "execution_count": 17,
   "id": "sbllyMoTlgWV",
   "metadata": {
    "colab": {
     "base_uri": "https://localhost:8080/"
    },
    "executionInfo": {
     "elapsed": 211,
     "status": "ok",
     "timestamp": 1681424999178,
     "user": {
      "displayName": "Stanley Nyarko Aboagye",
      "userId": "01236948860682234042"
     },
     "user_tz": -60
    },
    "id": "sbllyMoTlgWV",
    "outputId": "54aa8471-9c35-4c10-cd1e-6b14b91d3513"
   },
   "outputs": [
    {
     "data": {
      "text/plain": [
       "{'activation': 'tanh',\n",
       " 'first_units': 9,\n",
       " 'num_layers': 6,\n",
       " 'units_0': 3,\n",
       " 'units_1': 9,\n",
       " 'units_2': 5,\n",
       " 'units_3': 3,\n",
       " 'units_4': 9,\n",
       " 'units_5': 7,\n",
       " 'tuner/epochs': 20,\n",
       " 'tuner/initial_epoch': 0,\n",
       " 'tuner/bracket': 0,\n",
       " 'tuner/round': 0}"
      ]
     },
     "execution_count": 17,
     "metadata": {},
     "output_type": "execute_result"
    }
   ],
   "source": [
    "# Get best model hyperparameters\n",
    "best_hyper = tuner.get_best_hyperparameters(1)[0]\n",
    "best_hyper.values"
   ]
  },
  {
   "cell_type": "code",
   "execution_count": 18,
   "id": "m5oK6Gyblgba",
   "metadata": {
    "colab": {
     "base_uri": "https://localhost:8080/"
    },
    "executionInfo": {
     "elapsed": 1136,
     "status": "ok",
     "timestamp": 1681424811226,
     "user": {
      "displayName": "Stanley Nyarko Aboagye",
      "userId": "01236948860682234042"
     },
     "user_tz": -60
    },
    "id": "m5oK6Gyblgba",
    "outputId": "88f0e8ad-fe70-4cd2-898a-5dcc0abc8cb0"
   },
   "outputs": [
    {
     "name": "stdout",
     "output_type": "stream",
     "text": [
      "259/259 - 2s - loss: 0.3752 - accuracy: 0.8751 - 2s/epoch - 6ms/step\n",
      "Loss: 0.37516242265701294, Accuracy: 0.8750905990600586\n"
     ]
    }
   ],
   "source": [
    "best_model = tuner.get_best_models(1)[0]\n",
    "model_loss, model_accuracy = best_model.evaluate(X_test_scaled,y_test,verbose=2)\n",
    "print(f\"Loss: {model_loss}, Accuracy: {model_accuracy}\")"
   ]
  }
 ],
 "metadata": {
  "colab": {
   "provenance": []
  },
  "kernelspec": {
   "display_name": "Python 3 (ipykernel)",
   "language": "python",
   "name": "python3"
  },
  "language_info": {
   "codemirror_mode": {
    "name": "ipython",
    "version": 3
   },
   "file_extension": ".py",
   "mimetype": "text/x-python",
   "name": "python",
   "nbconvert_exporter": "python",
   "pygments_lexer": "ipython3",
   "version": "3.9.13"
  }
 },
 "nbformat": 4,
 "nbformat_minor": 5
}
