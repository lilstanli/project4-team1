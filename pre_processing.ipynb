{
 "cells": [
  {
   "cell_type": "code",
   "execution_count": 1,
   "id": "LrMs3aBdVucf",
   "metadata": {
    "colab": {
     "base_uri": "https://localhost:8080/"
    },
    "executionInfo": {
     "elapsed": 2607,
     "status": "ok",
     "timestamp": 1681217503912,
     "user": {
      "displayName": "Stanley Nyarko Aboagye",
      "userId": "01236948860682234042"
     },
     "user_tz": -60
    },
    "id": "LrMs3aBdVucf",
    "outputId": "2b04b01c-9d0b-42c1-f418-a95a570c9476"
   },
   "outputs": [],
   "source": [
    "# mount google drive and copy module file to temp location\n",
    "# from google.colab import drive\n",
    "# drive.mount('/content/drive')\n",
    "\n",
    "# !pwd\n",
    "# ! cp /content/drive/MyDrive/data_science/bootcamp/projects/project4-team1/config.py /content/config.py"
   ]
  },
  {
   "cell_type": "code",
   "execution_count": 2,
   "id": "c835b86b",
   "metadata": {
    "executionInfo": {
     "elapsed": 4,
     "status": "ok",
     "timestamp": 1681217503913,
     "user": {
      "displayName": "Stanley Nyarko Aboagye",
      "userId": "01236948860682234042"
     },
     "user_tz": -60
    },
    "id": "c835b86b",
    "scrolled": true
   },
   "outputs": [],
   "source": [
    "import pandas as pd\n",
    "import numpy as np\n",
    "from collections import Counter\n",
    "\n",
    "import matplotlib.pyplot as plt\n",
    "\n",
    "from sqlalchemy import create_engine, ForeignKey, Column, String, Integer, Text, Boolean, Float\n",
    "from sqlalchemy.ext.declarative import declarative_base\n",
    "\n",
    "# Saved password in config file which will be gitignored\n",
    "from config import pw\n",
    "\n",
    "import warnings\n",
    "warnings.filterwarnings('ignore')"
   ]
  },
  {
   "cell_type": "code",
   "execution_count": 3,
   "id": "263e2734",
   "metadata": {
    "executionInfo": {
     "elapsed": 4914,
     "status": "ok",
     "timestamp": 1681217533803,
     "user": {
      "displayName": "Stanley Nyarko Aboagye",
      "userId": "01236948860682234042"
     },
     "user_tz": -60
    },
    "id": "263e2734"
   },
   "outputs": [],
   "source": [
    "# when dealing with locally saved files\n",
    "\n",
    "credit_record_file = \"Resources/credit_record.csv\"\n",
    "application_record_file = \"Resources/application_record.csv\"\n",
    "\n",
    "# credit_record_file = \"https://drive.google.com/uc?id=1hMFACqanOmpN1mr0ih0q_HWz9NCfFCiJ\"\n",
    "# application_record_file = \"https://drive.google.com/uc?id=1hNo2LY0BOGwk6aqBnBFh3ZvHoXBLiUoY\"\n",
    "\n",
    "credit_record = pd.read_csv(credit_record_file)\n",
    "application_record = pd.read_csv(application_record_file)"
   ]
  },
  {
   "cell_type": "code",
   "execution_count": 4,
   "id": "030d51ec",
   "metadata": {
    "colab": {
     "base_uri": "https://localhost:8080/",
     "height": 206
    },
    "executionInfo": {
     "elapsed": 10,
     "status": "ok",
     "timestamp": 1681217533804,
     "user": {
      "displayName": "Stanley Nyarko Aboagye",
      "userId": "01236948860682234042"
     },
     "user_tz": -60
    },
    "id": "030d51ec",
    "outputId": "1169c0b8-286b-45c2-e8f1-25e9f275a601"
   },
   "outputs": [
    {
     "data": {
      "text/html": [
       "<div>\n",
       "<style scoped>\n",
       "    .dataframe tbody tr th:only-of-type {\n",
       "        vertical-align: middle;\n",
       "    }\n",
       "\n",
       "    .dataframe tbody tr th {\n",
       "        vertical-align: top;\n",
       "    }\n",
       "\n",
       "    .dataframe thead th {\n",
       "        text-align: right;\n",
       "    }\n",
       "</style>\n",
       "<table border=\"1\" class=\"dataframe\">\n",
       "  <thead>\n",
       "    <tr style=\"text-align: right;\">\n",
       "      <th></th>\n",
       "      <th>CR_ID</th>\n",
       "      <th>ID</th>\n",
       "      <th>MONTHS_BALANCE</th>\n",
       "      <th>STATUS</th>\n",
       "    </tr>\n",
       "  </thead>\n",
       "  <tbody>\n",
       "    <tr>\n",
       "      <th>0</th>\n",
       "      <td>0</td>\n",
       "      <td>5001711</td>\n",
       "      <td>0</td>\n",
       "      <td>X</td>\n",
       "    </tr>\n",
       "    <tr>\n",
       "      <th>1</th>\n",
       "      <td>1</td>\n",
       "      <td>5001711</td>\n",
       "      <td>-1</td>\n",
       "      <td>0</td>\n",
       "    </tr>\n",
       "    <tr>\n",
       "      <th>2</th>\n",
       "      <td>2</td>\n",
       "      <td>5001711</td>\n",
       "      <td>-2</td>\n",
       "      <td>0</td>\n",
       "    </tr>\n",
       "    <tr>\n",
       "      <th>3</th>\n",
       "      <td>3</td>\n",
       "      <td>5001711</td>\n",
       "      <td>-3</td>\n",
       "      <td>0</td>\n",
       "    </tr>\n",
       "    <tr>\n",
       "      <th>4</th>\n",
       "      <td>4</td>\n",
       "      <td>5001712</td>\n",
       "      <td>0</td>\n",
       "      <td>C</td>\n",
       "    </tr>\n",
       "  </tbody>\n",
       "</table>\n",
       "</div>"
      ],
      "text/plain": [
       "   CR_ID       ID  MONTHS_BALANCE STATUS\n",
       "0      0  5001711               0      X\n",
       "1      1  5001711              -1      0\n",
       "2      2  5001711              -2      0\n",
       "3      3  5001711              -3      0\n",
       "4      4  5001712               0      C"
      ]
     },
     "execution_count": 4,
     "metadata": {},
     "output_type": "execute_result"
    }
   ],
   "source": [
    "credit_record_df = credit_record.copy()\n",
    "credit_record_df.index.name = 'CR_ID'\n",
    "credit_record_df.reset_index(inplace=True)\n",
    "\n",
    "credit_record_df['STATUS'].unique()\n",
    "credit_record_df.head()\n"
   ]
  },
  {
   "cell_type": "code",
   "execution_count": 5,
   "id": "fb1acc98",
   "metadata": {
    "colab": {
     "base_uri": "https://localhost:8080/",
     "height": 322
    },
    "executionInfo": {
     "elapsed": 8,
     "status": "ok",
     "timestamp": 1681217533804,
     "user": {
      "displayName": "Stanley Nyarko Aboagye",
      "userId": "01236948860682234042"
     },
     "user_tz": -60
    },
    "id": "fb1acc98",
    "outputId": "c102ea99-6e0d-4697-8c32-66c4562bad94"
   },
   "outputs": [
    {
     "data": {
      "text/html": [
       "<div>\n",
       "<style scoped>\n",
       "    .dataframe tbody tr th:only-of-type {\n",
       "        vertical-align: middle;\n",
       "    }\n",
       "\n",
       "    .dataframe tbody tr th {\n",
       "        vertical-align: top;\n",
       "    }\n",
       "\n",
       "    .dataframe thead th {\n",
       "        text-align: right;\n",
       "    }\n",
       "</style>\n",
       "<table border=\"1\" class=\"dataframe\">\n",
       "  <thead>\n",
       "    <tr style=\"text-align: right;\">\n",
       "      <th></th>\n",
       "      <th>AR_ID</th>\n",
       "      <th>ID</th>\n",
       "      <th>CODE_GENDER</th>\n",
       "      <th>FLAG_OWN_CAR</th>\n",
       "      <th>FLAG_OWN_REALTY</th>\n",
       "      <th>CNT_CHILDREN</th>\n",
       "      <th>AMT_INCOME_TOTAL</th>\n",
       "      <th>NAME_INCOME_TYPE</th>\n",
       "      <th>NAME_EDUCATION_TYPE</th>\n",
       "      <th>NAME_FAMILY_STATUS</th>\n",
       "      <th>NAME_HOUSING_TYPE</th>\n",
       "      <th>DAYS_BIRTH</th>\n",
       "      <th>DAYS_EMPLOYED</th>\n",
       "      <th>FLAG_MOBIL</th>\n",
       "      <th>FLAG_WORK_PHONE</th>\n",
       "      <th>FLAG_PHONE</th>\n",
       "      <th>FLAG_EMAIL</th>\n",
       "      <th>OCCUPATION_TYPE</th>\n",
       "      <th>CNT_FAM_MEMBERS</th>\n",
       "    </tr>\n",
       "  </thead>\n",
       "  <tbody>\n",
       "    <tr>\n",
       "      <th>0</th>\n",
       "      <td>0</td>\n",
       "      <td>5008804</td>\n",
       "      <td>M</td>\n",
       "      <td>Y</td>\n",
       "      <td>Y</td>\n",
       "      <td>0</td>\n",
       "      <td>427500.0</td>\n",
       "      <td>Working</td>\n",
       "      <td>Higher education</td>\n",
       "      <td>Civil marriage</td>\n",
       "      <td>Rented apartment</td>\n",
       "      <td>-12005</td>\n",
       "      <td>-4542</td>\n",
       "      <td>1</td>\n",
       "      <td>1</td>\n",
       "      <td>0</td>\n",
       "      <td>0</td>\n",
       "      <td>NaN</td>\n",
       "      <td>2.0</td>\n",
       "    </tr>\n",
       "    <tr>\n",
       "      <th>1</th>\n",
       "      <td>1</td>\n",
       "      <td>5008805</td>\n",
       "      <td>M</td>\n",
       "      <td>Y</td>\n",
       "      <td>Y</td>\n",
       "      <td>0</td>\n",
       "      <td>427500.0</td>\n",
       "      <td>Working</td>\n",
       "      <td>Higher education</td>\n",
       "      <td>Civil marriage</td>\n",
       "      <td>Rented apartment</td>\n",
       "      <td>-12005</td>\n",
       "      <td>-4542</td>\n",
       "      <td>1</td>\n",
       "      <td>1</td>\n",
       "      <td>0</td>\n",
       "      <td>0</td>\n",
       "      <td>NaN</td>\n",
       "      <td>2.0</td>\n",
       "    </tr>\n",
       "    <tr>\n",
       "      <th>2</th>\n",
       "      <td>2</td>\n",
       "      <td>5008806</td>\n",
       "      <td>M</td>\n",
       "      <td>Y</td>\n",
       "      <td>Y</td>\n",
       "      <td>0</td>\n",
       "      <td>112500.0</td>\n",
       "      <td>Working</td>\n",
       "      <td>Secondary / secondary special</td>\n",
       "      <td>Married</td>\n",
       "      <td>House / apartment</td>\n",
       "      <td>-21474</td>\n",
       "      <td>-1134</td>\n",
       "      <td>1</td>\n",
       "      <td>0</td>\n",
       "      <td>0</td>\n",
       "      <td>0</td>\n",
       "      <td>Security staff</td>\n",
       "      <td>2.0</td>\n",
       "    </tr>\n",
       "    <tr>\n",
       "      <th>3</th>\n",
       "      <td>3</td>\n",
       "      <td>5008808</td>\n",
       "      <td>F</td>\n",
       "      <td>N</td>\n",
       "      <td>Y</td>\n",
       "      <td>0</td>\n",
       "      <td>270000.0</td>\n",
       "      <td>Commercial associate</td>\n",
       "      <td>Secondary / secondary special</td>\n",
       "      <td>Single / not married</td>\n",
       "      <td>House / apartment</td>\n",
       "      <td>-19110</td>\n",
       "      <td>-3051</td>\n",
       "      <td>1</td>\n",
       "      <td>0</td>\n",
       "      <td>1</td>\n",
       "      <td>1</td>\n",
       "      <td>Sales staff</td>\n",
       "      <td>1.0</td>\n",
       "    </tr>\n",
       "    <tr>\n",
       "      <th>4</th>\n",
       "      <td>4</td>\n",
       "      <td>5008809</td>\n",
       "      <td>F</td>\n",
       "      <td>N</td>\n",
       "      <td>Y</td>\n",
       "      <td>0</td>\n",
       "      <td>270000.0</td>\n",
       "      <td>Commercial associate</td>\n",
       "      <td>Secondary / secondary special</td>\n",
       "      <td>Single / not married</td>\n",
       "      <td>House / apartment</td>\n",
       "      <td>-19110</td>\n",
       "      <td>-3051</td>\n",
       "      <td>1</td>\n",
       "      <td>0</td>\n",
       "      <td>1</td>\n",
       "      <td>1</td>\n",
       "      <td>Sales staff</td>\n",
       "      <td>1.0</td>\n",
       "    </tr>\n",
       "  </tbody>\n",
       "</table>\n",
       "</div>"
      ],
      "text/plain": [
       "   AR_ID       ID CODE_GENDER FLAG_OWN_CAR FLAG_OWN_REALTY  CNT_CHILDREN  \\\n",
       "0      0  5008804           M            Y               Y             0   \n",
       "1      1  5008805           M            Y               Y             0   \n",
       "2      2  5008806           M            Y               Y             0   \n",
       "3      3  5008808           F            N               Y             0   \n",
       "4      4  5008809           F            N               Y             0   \n",
       "\n",
       "   AMT_INCOME_TOTAL      NAME_INCOME_TYPE            NAME_EDUCATION_TYPE  \\\n",
       "0          427500.0               Working               Higher education   \n",
       "1          427500.0               Working               Higher education   \n",
       "2          112500.0               Working  Secondary / secondary special   \n",
       "3          270000.0  Commercial associate  Secondary / secondary special   \n",
       "4          270000.0  Commercial associate  Secondary / secondary special   \n",
       "\n",
       "     NAME_FAMILY_STATUS  NAME_HOUSING_TYPE  DAYS_BIRTH  DAYS_EMPLOYED  \\\n",
       "0        Civil marriage   Rented apartment      -12005          -4542   \n",
       "1        Civil marriage   Rented apartment      -12005          -4542   \n",
       "2               Married  House / apartment      -21474          -1134   \n",
       "3  Single / not married  House / apartment      -19110          -3051   \n",
       "4  Single / not married  House / apartment      -19110          -3051   \n",
       "\n",
       "   FLAG_MOBIL  FLAG_WORK_PHONE  FLAG_PHONE  FLAG_EMAIL OCCUPATION_TYPE  \\\n",
       "0           1                1           0           0             NaN   \n",
       "1           1                1           0           0             NaN   \n",
       "2           1                0           0           0  Security staff   \n",
       "3           1                0           1           1     Sales staff   \n",
       "4           1                0           1           1     Sales staff   \n",
       "\n",
       "   CNT_FAM_MEMBERS  \n",
       "0              2.0  \n",
       "1              2.0  \n",
       "2              2.0  \n",
       "3              1.0  \n",
       "4              1.0  "
      ]
     },
     "execution_count": 5,
     "metadata": {},
     "output_type": "execute_result"
    }
   ],
   "source": [
    "application_record_df = application_record.copy()\n",
    "application_record_df.index.name = 'AR_ID'\n",
    "application_record_df.reset_index(inplace=True)\n",
    "\n",
    "application_record_df.head()"
   ]
  },
  {
   "cell_type": "markdown",
   "id": "d3590db6",
   "metadata": {},
   "source": [
    "## Loading Data Frames into DB as Tables"
   ]
  },
  {
   "cell_type": "code",
   "execution_count": 6,
   "id": "acd505e4",
   "metadata": {},
   "outputs": [],
   "source": [
    "protocol = 'postgresql'\n",
    "username = 'postgres'\n",
    "password = pw\n",
    "host = 'localhost'\n",
    "port = 5432\n",
    "database_name = 'creditCheck_db'\n",
    "rds_connection_string = f'{protocol}://{username}:{password}@{host}:{port}/{database_name}'\n",
    "engine = create_engine(rds_connection_string)\n",
    "\n",
    "Base = declarative_base()"
   ]
  },
  {
   "cell_type": "code",
   "execution_count": 7,
   "id": "1c240fde",
   "metadata": {},
   "outputs": [
    {
     "data": {
      "text/plain": [
       "[]"
      ]
     },
     "execution_count": 7,
     "metadata": {},
     "output_type": "execute_result"
    }
   ],
   "source": [
    "# Check for existing tables before creation\n",
    "engine.table_names()"
   ]
  },
  {
   "cell_type": "markdown",
   "id": "66950fc2",
   "metadata": {},
   "source": [
    "### Credit Record prep for DB load"
   ]
  },
  {
   "cell_type": "code",
   "execution_count": 8,
   "id": "c48512b4",
   "metadata": {},
   "outputs": [
    {
     "name": "stdout",
     "output_type": "stream",
     "text": [
      "['CR_ID', 'ID', 'MONTHS_BALANCE', 'STATUS']\n"
     ]
    }
   ],
   "source": [
    "print(credit_record_df.columns.tolist())"
   ]
  },
  {
   "cell_type": "code",
   "execution_count": 9,
   "id": "011cc0a9",
   "metadata": {},
   "outputs": [
    {
     "data": {
      "text/plain": [
       "CR_ID              int64\n",
       "ID                 int64\n",
       "MONTHS_BALANCE     int64\n",
       "STATUS            object\n",
       "dtype: object"
      ]
     },
     "execution_count": 9,
     "metadata": {},
     "output_type": "execute_result"
    }
   ],
   "source": [
    "# checking datatypes for schema creation\n",
    "credit_record_df.dtypes"
   ]
  },
  {
   "cell_type": "code",
   "execution_count": 10,
   "id": "d7d5f25a",
   "metadata": {},
   "outputs": [],
   "source": [
    "# Creating poke table\n",
    "class credit_record(Base):\n",
    "    extend_existing=True\n",
    "    __tablename__ = \"credit_record\"\n",
    "    \n",
    "    cr_id = Column(\"CR_ID\", Integer, primary_key = True)\n",
    "    id_ = Column(\"ID\", Integer)\n",
    "    month_balance = Column(\"MONTHS_BALANCE\", Integer)\n",
    "    status = Column(\"STATUS\", String)"
   ]
  },
  {
   "cell_type": "code",
   "execution_count": null,
   "id": "291b6504",
   "metadata": {},
   "outputs": [],
   "source": []
  },
  {
   "cell_type": "markdown",
   "id": "19739609",
   "metadata": {},
   "source": [
    "### Application Record prep for DB load"
   ]
  },
  {
   "cell_type": "code",
   "execution_count": 11,
   "id": "1a06d679",
   "metadata": {},
   "outputs": [
    {
     "name": "stdout",
     "output_type": "stream",
     "text": [
      "['AR_ID', 'ID', 'CODE_GENDER', 'FLAG_OWN_CAR', 'FLAG_OWN_REALTY', 'CNT_CHILDREN', 'AMT_INCOME_TOTAL', 'NAME_INCOME_TYPE', 'NAME_EDUCATION_TYPE', 'NAME_FAMILY_STATUS', 'NAME_HOUSING_TYPE', 'DAYS_BIRTH', 'DAYS_EMPLOYED', 'FLAG_MOBIL', 'FLAG_WORK_PHONE', 'FLAG_PHONE', 'FLAG_EMAIL', 'OCCUPATION_TYPE', 'CNT_FAM_MEMBERS']\n"
     ]
    }
   ],
   "source": [
    "print(application_record_df.columns.tolist())"
   ]
  },
  {
   "cell_type": "code",
   "execution_count": 12,
   "id": "fb965a8c",
   "metadata": {},
   "outputs": [
    {
     "data": {
      "text/plain": [
       "AR_ID                    int64\n",
       "ID                       int64\n",
       "CODE_GENDER             object\n",
       "FLAG_OWN_CAR            object\n",
       "FLAG_OWN_REALTY         object\n",
       "CNT_CHILDREN             int64\n",
       "AMT_INCOME_TOTAL       float64\n",
       "NAME_INCOME_TYPE        object\n",
       "NAME_EDUCATION_TYPE     object\n",
       "NAME_FAMILY_STATUS      object\n",
       "NAME_HOUSING_TYPE       object\n",
       "DAYS_BIRTH               int64\n",
       "DAYS_EMPLOYED            int64\n",
       "FLAG_MOBIL               int64\n",
       "FLAG_WORK_PHONE          int64\n",
       "FLAG_PHONE               int64\n",
       "FLAG_EMAIL               int64\n",
       "OCCUPATION_TYPE         object\n",
       "CNT_FAM_MEMBERS        float64\n",
       "dtype: object"
      ]
     },
     "execution_count": 12,
     "metadata": {},
     "output_type": "execute_result"
    }
   ],
   "source": [
    "# checking datatypes for schema creation\n",
    "application_record_df.dtypes"
   ]
  },
  {
   "cell_type": "code",
   "execution_count": 13,
   "id": "d2819978",
   "metadata": {},
   "outputs": [],
   "source": [
    "# Creating poke table\n",
    "class application_record(Base):\n",
    "    extend_existing=True\n",
    "    __tablename__ = \"application_record\"\n",
    "    \n",
    "    ar_id = Column(\"AR_ID\", Integer, primary_key = True)\n",
    "    id_ = Column(\"ID\", Integer)\n",
    "    code_gender = Column(\"CODE_GENDER\", String)\n",
    "    flag_own_car = Column(\"FLAG_OWN_CAR\", String)\n",
    "    flag_own_realty = Column(\"FLAG_OWN_REALTY\", String)\n",
    "    cnt_children = Column(\"CNT_CHILDREN\", Integer)\n",
    "    amt_income_total = Column(\"AMT_INCOME_TOTAL\", Float)\n",
    "    name_income_type = Column(\"NAME_INCOME_TYPE\", String)\n",
    "    name_education_type = Column(\"NAME_EDUCATION_TYPE\", String)\n",
    "    name_family_status = Column(\"NAME_FAMILY_STATUS\", String)\n",
    "    name_housing_type = Column(\"NAME_HOUSING_TYPE\", String)\n",
    "    days_birth = Column(\"DAYS_BIRTH\", Integer)\n",
    "    days_employed = Column(\"DAYS_EMPLOYED\", Integer)\n",
    "    flag_mobil = Column(\"FLAG_MOBIL\", Integer)\n",
    "    flag_work_phone = Column(\"FLAG_WORK_PHONE\", Integer)\n",
    "    flag_phone = Column(\"FLAG_PHONE\", Integer)\n",
    "    flag_email = Column(\"FLAG_EMAIL\", Integer)\n",
    "    occupation_type = Column(\"OCCUPATION_TYPE\", String)\n",
    "    cnt_fam_members = Column(\"CNT_FAM_MEMBERS\", Float)\n",
    "    "
   ]
  },
  {
   "cell_type": "code",
   "execution_count": 14,
   "id": "e6b9217a",
   "metadata": {},
   "outputs": [],
   "source": [
    "Base.metadata.create_all(bind = engine)"
   ]
  },
  {
   "cell_type": "code",
   "execution_count": 15,
   "id": "bae83c84",
   "metadata": {},
   "outputs": [
    {
     "data": {
      "text/plain": [
       "['credit_record', 'application_record']"
      ]
     },
     "execution_count": 15,
     "metadata": {},
     "output_type": "execute_result"
    }
   ],
   "source": [
    "engine.table_names()"
   ]
  },
  {
   "cell_type": "code",
   "execution_count": 16,
   "id": "6a84e88c",
   "metadata": {},
   "outputs": [
    {
     "data": {
      "text/plain": [
       "575"
      ]
     },
     "execution_count": 16,
     "metadata": {},
     "output_type": "execute_result"
    }
   ],
   "source": [
    "credit_record_df.to_sql(name='credit_record', con=engine, if_exists='append', index=False)"
   ]
  },
  {
   "cell_type": "code",
   "execution_count": 17,
   "id": "210c2c7b",
   "metadata": {},
   "outputs": [
    {
     "data": {
      "text/plain": [
       "557"
      ]
     },
     "execution_count": 17,
     "metadata": {},
     "output_type": "execute_result"
    }
   ],
   "source": [
    "application_record_df.to_sql(name='application_record', con=engine, if_exists='append', index=False)"
   ]
  },
  {
   "cell_type": "code",
   "execution_count": 18,
   "id": "9414aca0",
   "metadata": {},
   "outputs": [
    {
     "data": {
      "text/html": [
       "<div>\n",
       "<style scoped>\n",
       "    .dataframe tbody tr th:only-of-type {\n",
       "        vertical-align: middle;\n",
       "    }\n",
       "\n",
       "    .dataframe tbody tr th {\n",
       "        vertical-align: top;\n",
       "    }\n",
       "\n",
       "    .dataframe thead th {\n",
       "        text-align: right;\n",
       "    }\n",
       "</style>\n",
       "<table border=\"1\" class=\"dataframe\">\n",
       "  <thead>\n",
       "    <tr style=\"text-align: right;\">\n",
       "      <th></th>\n",
       "      <th>AR_ID</th>\n",
       "      <th>ID</th>\n",
       "      <th>CODE_GENDER</th>\n",
       "      <th>FLAG_OWN_CAR</th>\n",
       "      <th>FLAG_OWN_REALTY</th>\n",
       "      <th>CNT_CHILDREN</th>\n",
       "      <th>AMT_INCOME_TOTAL</th>\n",
       "      <th>NAME_INCOME_TYPE</th>\n",
       "      <th>NAME_EDUCATION_TYPE</th>\n",
       "      <th>NAME_FAMILY_STATUS</th>\n",
       "      <th>NAME_HOUSING_TYPE</th>\n",
       "      <th>DAYS_BIRTH</th>\n",
       "      <th>DAYS_EMPLOYED</th>\n",
       "      <th>FLAG_MOBIL</th>\n",
       "      <th>FLAG_WORK_PHONE</th>\n",
       "      <th>FLAG_PHONE</th>\n",
       "      <th>FLAG_EMAIL</th>\n",
       "      <th>OCCUPATION_TYPE</th>\n",
       "      <th>CNT_FAM_MEMBERS</th>\n",
       "    </tr>\n",
       "  </thead>\n",
       "  <tbody>\n",
       "    <tr>\n",
       "      <th>0</th>\n",
       "      <td>0</td>\n",
       "      <td>5008804</td>\n",
       "      <td>M</td>\n",
       "      <td>Y</td>\n",
       "      <td>Y</td>\n",
       "      <td>0</td>\n",
       "      <td>427500.0</td>\n",
       "      <td>Working</td>\n",
       "      <td>Higher education</td>\n",
       "      <td>Civil marriage</td>\n",
       "      <td>Rented apartment</td>\n",
       "      <td>-12005</td>\n",
       "      <td>-4542</td>\n",
       "      <td>1</td>\n",
       "      <td>1</td>\n",
       "      <td>0</td>\n",
       "      <td>0</td>\n",
       "      <td>None</td>\n",
       "      <td>2.0</td>\n",
       "    </tr>\n",
       "    <tr>\n",
       "      <th>1</th>\n",
       "      <td>1</td>\n",
       "      <td>5008805</td>\n",
       "      <td>M</td>\n",
       "      <td>Y</td>\n",
       "      <td>Y</td>\n",
       "      <td>0</td>\n",
       "      <td>427500.0</td>\n",
       "      <td>Working</td>\n",
       "      <td>Higher education</td>\n",
       "      <td>Civil marriage</td>\n",
       "      <td>Rented apartment</td>\n",
       "      <td>-12005</td>\n",
       "      <td>-4542</td>\n",
       "      <td>1</td>\n",
       "      <td>1</td>\n",
       "      <td>0</td>\n",
       "      <td>0</td>\n",
       "      <td>None</td>\n",
       "      <td>2.0</td>\n",
       "    </tr>\n",
       "    <tr>\n",
       "      <th>2</th>\n",
       "      <td>2</td>\n",
       "      <td>5008806</td>\n",
       "      <td>M</td>\n",
       "      <td>Y</td>\n",
       "      <td>Y</td>\n",
       "      <td>0</td>\n",
       "      <td>112500.0</td>\n",
       "      <td>Working</td>\n",
       "      <td>Secondary / secondary special</td>\n",
       "      <td>Married</td>\n",
       "      <td>House / apartment</td>\n",
       "      <td>-21474</td>\n",
       "      <td>-1134</td>\n",
       "      <td>1</td>\n",
       "      <td>0</td>\n",
       "      <td>0</td>\n",
       "      <td>0</td>\n",
       "      <td>Security staff</td>\n",
       "      <td>2.0</td>\n",
       "    </tr>\n",
       "    <tr>\n",
       "      <th>3</th>\n",
       "      <td>3</td>\n",
       "      <td>5008808</td>\n",
       "      <td>F</td>\n",
       "      <td>N</td>\n",
       "      <td>Y</td>\n",
       "      <td>0</td>\n",
       "      <td>270000.0</td>\n",
       "      <td>Commercial associate</td>\n",
       "      <td>Secondary / secondary special</td>\n",
       "      <td>Single / not married</td>\n",
       "      <td>House / apartment</td>\n",
       "      <td>-19110</td>\n",
       "      <td>-3051</td>\n",
       "      <td>1</td>\n",
       "      <td>0</td>\n",
       "      <td>1</td>\n",
       "      <td>1</td>\n",
       "      <td>Sales staff</td>\n",
       "      <td>1.0</td>\n",
       "    </tr>\n",
       "    <tr>\n",
       "      <th>4</th>\n",
       "      <td>4</td>\n",
       "      <td>5008809</td>\n",
       "      <td>F</td>\n",
       "      <td>N</td>\n",
       "      <td>Y</td>\n",
       "      <td>0</td>\n",
       "      <td>270000.0</td>\n",
       "      <td>Commercial associate</td>\n",
       "      <td>Secondary / secondary special</td>\n",
       "      <td>Single / not married</td>\n",
       "      <td>House / apartment</td>\n",
       "      <td>-19110</td>\n",
       "      <td>-3051</td>\n",
       "      <td>1</td>\n",
       "      <td>0</td>\n",
       "      <td>1</td>\n",
       "      <td>1</td>\n",
       "      <td>Sales staff</td>\n",
       "      <td>1.0</td>\n",
       "    </tr>\n",
       "  </tbody>\n",
       "</table>\n",
       "</div>"
      ],
      "text/plain": [
       "   AR_ID       ID CODE_GENDER FLAG_OWN_CAR FLAG_OWN_REALTY  CNT_CHILDREN  \\\n",
       "0      0  5008804           M            Y               Y             0   \n",
       "1      1  5008805           M            Y               Y             0   \n",
       "2      2  5008806           M            Y               Y             0   \n",
       "3      3  5008808           F            N               Y             0   \n",
       "4      4  5008809           F            N               Y             0   \n",
       "\n",
       "   AMT_INCOME_TOTAL      NAME_INCOME_TYPE            NAME_EDUCATION_TYPE  \\\n",
       "0          427500.0               Working               Higher education   \n",
       "1          427500.0               Working               Higher education   \n",
       "2          112500.0               Working  Secondary / secondary special   \n",
       "3          270000.0  Commercial associate  Secondary / secondary special   \n",
       "4          270000.0  Commercial associate  Secondary / secondary special   \n",
       "\n",
       "     NAME_FAMILY_STATUS  NAME_HOUSING_TYPE  DAYS_BIRTH  DAYS_EMPLOYED  \\\n",
       "0        Civil marriage   Rented apartment      -12005          -4542   \n",
       "1        Civil marriage   Rented apartment      -12005          -4542   \n",
       "2               Married  House / apartment      -21474          -1134   \n",
       "3  Single / not married  House / apartment      -19110          -3051   \n",
       "4  Single / not married  House / apartment      -19110          -3051   \n",
       "\n",
       "   FLAG_MOBIL  FLAG_WORK_PHONE  FLAG_PHONE  FLAG_EMAIL OCCUPATION_TYPE  \\\n",
       "0           1                1           0           0            None   \n",
       "1           1                1           0           0            None   \n",
       "2           1                0           0           0  Security staff   \n",
       "3           1                0           1           1     Sales staff   \n",
       "4           1                0           1           1     Sales staff   \n",
       "\n",
       "   CNT_FAM_MEMBERS  \n",
       "0              2.0  \n",
       "1              2.0  \n",
       "2              2.0  \n",
       "3              1.0  \n",
       "4              1.0  "
      ]
     },
     "execution_count": 18,
     "metadata": {},
     "output_type": "execute_result"
    }
   ],
   "source": [
    "pd.read_sql_query('SELECT * FROM application_record', con=engine).head()"
   ]
  },
  {
   "cell_type": "markdown",
   "id": "a8b753d4",
   "metadata": {
    "id": "a8b753d4"
   },
   "source": [
    "## Credit Record Engineering"
   ]
  },
  {
   "cell_type": "code",
   "execution_count": 19,
   "id": "b891de6f",
   "metadata": {
    "colab": {
     "base_uri": "https://localhost:8080/",
     "height": 206
    },
    "executionInfo": {
     "elapsed": 1041,
     "status": "ok",
     "timestamp": 1681217534838,
     "user": {
      "displayName": "Stanley Nyarko Aboagye",
      "userId": "01236948860682234042"
     },
     "user_tz": -60
    },
    "id": "b891de6f",
    "outputId": "f314264b-b3ce-4b8d-84af-17cf72e2d66d"
   },
   "outputs": [
    {
     "data": {
      "text/html": [
       "<div>\n",
       "<style scoped>\n",
       "    .dataframe tbody tr th:only-of-type {\n",
       "        vertical-align: middle;\n",
       "    }\n",
       "\n",
       "    .dataframe tbody tr th {\n",
       "        vertical-align: top;\n",
       "    }\n",
       "\n",
       "    .dataframe thead th {\n",
       "        text-align: right;\n",
       "    }\n",
       "</style>\n",
       "<table border=\"1\" class=\"dataframe\">\n",
       "  <thead>\n",
       "    <tr style=\"text-align: right;\">\n",
       "      <th></th>\n",
       "      <th>CR_ID</th>\n",
       "      <th>ID</th>\n",
       "      <th>MONTHS_BALANCE</th>\n",
       "      <th>STATUS</th>\n",
       "    </tr>\n",
       "  </thead>\n",
       "  <tbody>\n",
       "    <tr>\n",
       "      <th>0</th>\n",
       "      <td>0</td>\n",
       "      <td>5001711</td>\n",
       "      <td>0</td>\n",
       "      <td>X</td>\n",
       "    </tr>\n",
       "    <tr>\n",
       "      <th>1</th>\n",
       "      <td>1</td>\n",
       "      <td>5001711</td>\n",
       "      <td>-1</td>\n",
       "      <td>0</td>\n",
       "    </tr>\n",
       "    <tr>\n",
       "      <th>2</th>\n",
       "      <td>2</td>\n",
       "      <td>5001711</td>\n",
       "      <td>-2</td>\n",
       "      <td>0</td>\n",
       "    </tr>\n",
       "    <tr>\n",
       "      <th>3</th>\n",
       "      <td>3</td>\n",
       "      <td>5001711</td>\n",
       "      <td>-3</td>\n",
       "      <td>0</td>\n",
       "    </tr>\n",
       "    <tr>\n",
       "      <th>4</th>\n",
       "      <td>4</td>\n",
       "      <td>5001712</td>\n",
       "      <td>0</td>\n",
       "      <td>C</td>\n",
       "    </tr>\n",
       "  </tbody>\n",
       "</table>\n",
       "</div>"
      ],
      "text/plain": [
       "   CR_ID       ID  MONTHS_BALANCE STATUS\n",
       "0      0  5001711               0      X\n",
       "1      1  5001711              -1      0\n",
       "2      2  5001711              -2      0\n",
       "3      3  5001711              -3      0\n",
       "4      4  5001712               0      C"
      ]
     },
     "execution_count": 19,
     "metadata": {},
     "output_type": "execute_result"
    }
   ],
   "source": [
    "credit_record_df.head()"
   ]
  },
  {
   "cell_type": "code",
   "execution_count": 20,
   "id": "1e6fd820",
   "metadata": {
    "colab": {
     "base_uri": "https://localhost:8080/"
    },
    "executionInfo": {
     "elapsed": 10,
     "status": "ok",
     "timestamp": 1681217534838,
     "user": {
      "displayName": "Stanley Nyarko Aboagye",
      "userId": "01236948860682234042"
     },
     "user_tz": -60
    },
    "id": "1e6fd820",
    "outputId": "cbedd890-9e60-4f63-eb33-9483cbf9776d"
   },
   "outputs": [
    {
     "data": {
      "text/plain": [
       "False"
      ]
     },
     "execution_count": 20,
     "metadata": {},
     "output_type": "execute_result"
    }
   ],
   "source": [
    "credit_record_df.isnull().values.any()"
   ]
  },
  {
   "cell_type": "code",
   "execution_count": 21,
   "id": "ecc13ba9",
   "metadata": {
    "colab": {
     "base_uri": "https://localhost:8080/"
    },
    "executionInfo": {
     "elapsed": 9,
     "status": "ok",
     "timestamp": 1681217534838,
     "user": {
      "displayName": "Stanley Nyarko Aboagye",
      "userId": "01236948860682234042"
     },
     "user_tz": -60
    },
    "id": "ecc13ba9",
    "outputId": "7bba3185-6869-4a2e-dc6f-869a96288998"
   },
   "outputs": [
    {
     "name": "stdout",
     "output_type": "stream",
     "text": [
      "['X' '0' 'C' '1' '2' '3' '4' '5']\n"
     ]
    }
   ],
   "source": [
    "print(credit_record_df.STATUS.unique())"
   ]
  },
  {
   "cell_type": "code",
   "execution_count": 22,
   "id": "9d7ebbb1",
   "metadata": {
    "colab": {
     "base_uri": "https://localhost:8080/",
     "height": 206
    },
    "executionInfo": {
     "elapsed": 6,
     "status": "ok",
     "timestamp": 1681217534838,
     "user": {
      "displayName": "Stanley Nyarko Aboagye",
      "userId": "01236948860682234042"
     },
     "user_tz": -60
    },
    "id": "9d7ebbb1",
    "outputId": "86a35cb6-557b-4b8d-a9aa-9748bc08bcbc"
   },
   "outputs": [
    {
     "data": {
      "text/html": [
       "<div>\n",
       "<style scoped>\n",
       "    .dataframe tbody tr th:only-of-type {\n",
       "        vertical-align: middle;\n",
       "    }\n",
       "\n",
       "    .dataframe tbody tr th {\n",
       "        vertical-align: top;\n",
       "    }\n",
       "\n",
       "    .dataframe thead th {\n",
       "        text-align: right;\n",
       "    }\n",
       "</style>\n",
       "<table border=\"1\" class=\"dataframe\">\n",
       "  <thead>\n",
       "    <tr style=\"text-align: right;\">\n",
       "      <th></th>\n",
       "      <th>CR_ID</th>\n",
       "      <th>ID</th>\n",
       "      <th>MONTHS_BALANCE</th>\n",
       "      <th>STATUS</th>\n",
       "    </tr>\n",
       "  </thead>\n",
       "  <tbody>\n",
       "    <tr>\n",
       "      <th>1</th>\n",
       "      <td>1</td>\n",
       "      <td>5001711</td>\n",
       "      <td>-1</td>\n",
       "      <td>0</td>\n",
       "    </tr>\n",
       "    <tr>\n",
       "      <th>2</th>\n",
       "      <td>2</td>\n",
       "      <td>5001711</td>\n",
       "      <td>-2</td>\n",
       "      <td>0</td>\n",
       "    </tr>\n",
       "    <tr>\n",
       "      <th>3</th>\n",
       "      <td>3</td>\n",
       "      <td>5001711</td>\n",
       "      <td>-3</td>\n",
       "      <td>0</td>\n",
       "    </tr>\n",
       "    <tr>\n",
       "      <th>4</th>\n",
       "      <td>4</td>\n",
       "      <td>5001712</td>\n",
       "      <td>0</td>\n",
       "      <td>C</td>\n",
       "    </tr>\n",
       "    <tr>\n",
       "      <th>5</th>\n",
       "      <td>5</td>\n",
       "      <td>5001712</td>\n",
       "      <td>-1</td>\n",
       "      <td>C</td>\n",
       "    </tr>\n",
       "  </tbody>\n",
       "</table>\n",
       "</div>"
      ],
      "text/plain": [
       "   CR_ID       ID  MONTHS_BALANCE STATUS\n",
       "1      1  5001711              -1      0\n",
       "2      2  5001711              -2      0\n",
       "3      3  5001711              -3      0\n",
       "4      4  5001712               0      C\n",
       "5      5  5001712              -1      C"
      ]
     },
     "execution_count": 22,
     "metadata": {},
     "output_type": "execute_result"
    }
   ],
   "source": [
    "# Since the \"X\" value signifies \"No loan for the month\", this can be counted as irrelevant \n",
    "# to whether or not they defaulted and if used could create bias\n",
    "# There are a lot of account numbers with a month_balances with corresponding status labeled as \"X\" so can't be used\n",
    "credit_record_df.drop(credit_record_df[credit_record_df[\"STATUS\"] == \"X\"].index, inplace = True)\n",
    "credit_record_df.head()"
   ]
  },
  {
   "cell_type": "code",
   "execution_count": 23,
   "id": "b10c525d",
   "metadata": {
    "colab": {
     "base_uri": "https://localhost:8080/",
     "height": 173
    },
    "executionInfo": {
     "elapsed": 11373,
     "status": "ok",
     "timestamp": 1681217546207,
     "user": {
      "displayName": "Stanley Nyarko Aboagye",
      "userId": "01236948860682234042"
     },
     "user_tz": -60
    },
    "id": "b10c525d",
    "outputId": "b547e264-92a9-4140-805e-6517896aa5d0"
   },
   "outputs": [
    {
     "data": {
      "text/plain": [
       "1    0\n",
       "2    0\n",
       "3    0\n",
       "4    0\n",
       "5    0\n",
       "Name: STATUS, dtype: int64"
      ]
     },
     "metadata": {},
     "output_type": "display_data"
    },
    {
     "data": {
      "text/plain": [
       "0    825151\n",
       "1     14194\n",
       "Name: STATUS, dtype: int64"
      ]
     },
     "metadata": {},
     "output_type": "display_data"
    }
   ],
   "source": [
    "# Replace categorical credit status values with binary values\n",
    "credit_record_df = credit_record_df.apply(lambda x: x.replace({'C': 0, '0' : 0, '1' : 1, '2' : 1, '3' : 1, '4' : 1, '5' : 1}, regex=True))\n",
    "display(credit_record_df['STATUS'].head())\n",
    "display(credit_record_df['STATUS'].value_counts())"
   ]
  },
  {
   "cell_type": "code",
   "execution_count": 24,
   "id": "89844904",
   "metadata": {
    "colab": {
     "base_uri": "https://localhost:8080/",
     "height": 206
    },
    "executionInfo": {
     "elapsed": 647,
     "status": "ok",
     "timestamp": 1681217546852,
     "user": {
      "displayName": "Stanley Nyarko Aboagye",
      "userId": "01236948860682234042"
     },
     "user_tz": -60
    },
    "id": "89844904",
    "outputId": "a2aa9018-8ada-4cf5-8e8f-41ca621ce47a"
   },
   "outputs": [
    {
     "data": {
      "text/html": [
       "<div>\n",
       "<style scoped>\n",
       "    .dataframe tbody tr th:only-of-type {\n",
       "        vertical-align: middle;\n",
       "    }\n",
       "\n",
       "    .dataframe tbody tr th {\n",
       "        vertical-align: top;\n",
       "    }\n",
       "\n",
       "    .dataframe thead th {\n",
       "        text-align: right;\n",
       "    }\n",
       "</style>\n",
       "<table border=\"1\" class=\"dataframe\">\n",
       "  <thead>\n",
       "    <tr style=\"text-align: right;\">\n",
       "      <th></th>\n",
       "      <th>CR_ID</th>\n",
       "      <th>ID</th>\n",
       "      <th>MONTHS_BALANCE</th>\n",
       "      <th>STATUS</th>\n",
       "    </tr>\n",
       "  </thead>\n",
       "  <tbody>\n",
       "    <tr>\n",
       "      <th>1048570</th>\n",
       "      <td>1048570</td>\n",
       "      <td>5150487</td>\n",
       "      <td>-25</td>\n",
       "      <td>0</td>\n",
       "    </tr>\n",
       "    <tr>\n",
       "      <th>1048571</th>\n",
       "      <td>1048571</td>\n",
       "      <td>5150487</td>\n",
       "      <td>-26</td>\n",
       "      <td>0</td>\n",
       "    </tr>\n",
       "    <tr>\n",
       "      <th>1048572</th>\n",
       "      <td>1048572</td>\n",
       "      <td>5150487</td>\n",
       "      <td>-27</td>\n",
       "      <td>0</td>\n",
       "    </tr>\n",
       "    <tr>\n",
       "      <th>1048573</th>\n",
       "      <td>1048573</td>\n",
       "      <td>5150487</td>\n",
       "      <td>-28</td>\n",
       "      <td>0</td>\n",
       "    </tr>\n",
       "    <tr>\n",
       "      <th>1048574</th>\n",
       "      <td>1048574</td>\n",
       "      <td>5150487</td>\n",
       "      <td>-29</td>\n",
       "      <td>0</td>\n",
       "    </tr>\n",
       "  </tbody>\n",
       "</table>\n",
       "</div>"
      ],
      "text/plain": [
       "           CR_ID       ID  MONTHS_BALANCE  STATUS\n",
       "1048570  1048570  5150487             -25       0\n",
       "1048571  1048571  5150487             -26       0\n",
       "1048572  1048572  5150487             -27       0\n",
       "1048573  1048573  5150487             -28       0\n",
       "1048574  1048574  5150487             -29       0"
      ]
     },
     "execution_count": 24,
     "metadata": {},
     "output_type": "execute_result"
    }
   ],
   "source": [
    "credit_record_df.tail()"
   ]
  },
  {
   "cell_type": "code",
   "execution_count": 25,
   "id": "27642860",
   "metadata": {
    "executionInfo": {
     "elapsed": 12,
     "status": "ok",
     "timestamp": 1681217546852,
     "user": {
      "displayName": "Stanley Nyarko Aboagye",
      "userId": "01236948860682234042"
     },
     "user_tz": -60
    },
    "id": "27642860"
   },
   "outputs": [],
   "source": [
    "credit_record_df = credit_record_df['STATUS'].groupby(credit_record_df['ID']).mean().reset_index()"
   ]
  },
  {
   "cell_type": "code",
   "execution_count": 26,
   "id": "8b88a829",
   "metadata": {
    "executionInfo": {
     "elapsed": 13,
     "status": "ok",
     "timestamp": 1681217546853,
     "user": {
      "displayName": "Stanley Nyarko Aboagye",
      "userId": "01236948860682234042"
     },
     "user_tz": -60
    },
    "id": "8b88a829"
   },
   "outputs": [],
   "source": [
    "credit_record_df = pd.DataFrame(credit_record_df)"
   ]
  },
  {
   "cell_type": "code",
   "execution_count": 27,
   "id": "0bccb2a0",
   "metadata": {
    "colab": {
     "base_uri": "https://localhost:8080/",
     "height": 206
    },
    "executionInfo": {
     "elapsed": 13,
     "status": "ok",
     "timestamp": 1681217546853,
     "user": {
      "displayName": "Stanley Nyarko Aboagye",
      "userId": "01236948860682234042"
     },
     "user_tz": -60
    },
    "id": "0bccb2a0",
    "outputId": "12770bde-9f75-4dc8-d1b1-9f9e62962d0a"
   },
   "outputs": [
    {
     "data": {
      "text/html": [
       "<div>\n",
       "<style scoped>\n",
       "    .dataframe tbody tr th:only-of-type {\n",
       "        vertical-align: middle;\n",
       "    }\n",
       "\n",
       "    .dataframe tbody tr th {\n",
       "        vertical-align: top;\n",
       "    }\n",
       "\n",
       "    .dataframe thead th {\n",
       "        text-align: right;\n",
       "    }\n",
       "</style>\n",
       "<table border=\"1\" class=\"dataframe\">\n",
       "  <thead>\n",
       "    <tr style=\"text-align: right;\">\n",
       "      <th></th>\n",
       "      <th>ID</th>\n",
       "      <th>STATUS</th>\n",
       "    </tr>\n",
       "  </thead>\n",
       "  <tbody>\n",
       "    <tr>\n",
       "      <th>0</th>\n",
       "      <td>5001711</td>\n",
       "      <td>0.000000</td>\n",
       "    </tr>\n",
       "    <tr>\n",
       "      <th>1</th>\n",
       "      <td>5001712</td>\n",
       "      <td>0.000000</td>\n",
       "    </tr>\n",
       "    <tr>\n",
       "      <th>2</th>\n",
       "      <td>5001717</td>\n",
       "      <td>0.000000</td>\n",
       "    </tr>\n",
       "    <tr>\n",
       "      <th>3</th>\n",
       "      <td>5001718</td>\n",
       "      <td>0.068966</td>\n",
       "    </tr>\n",
       "    <tr>\n",
       "      <th>4</th>\n",
       "      <td>5001719</td>\n",
       "      <td>0.000000</td>\n",
       "    </tr>\n",
       "  </tbody>\n",
       "</table>\n",
       "</div>"
      ],
      "text/plain": [
       "        ID    STATUS\n",
       "0  5001711  0.000000\n",
       "1  5001712  0.000000\n",
       "2  5001717  0.000000\n",
       "3  5001718  0.068966\n",
       "4  5001719  0.000000"
      ]
     },
     "execution_count": 27,
     "metadata": {},
     "output_type": "execute_result"
    }
   ],
   "source": [
    "credit_record_df.head()"
   ]
  },
  {
   "cell_type": "code",
   "execution_count": 28,
   "id": "e36baf6a",
   "metadata": {
    "colab": {
     "base_uri": "https://localhost:8080/"
    },
    "executionInfo": {
     "elapsed": 12,
     "status": "ok",
     "timestamp": 1681217546853,
     "user": {
      "displayName": "Stanley Nyarko Aboagye",
      "userId": "01236948860682234042"
     },
     "user_tz": -60
    },
    "id": "e36baf6a",
    "outputId": "ed470b22-2900-4c45-cf79-d915920ead2f"
   },
   "outputs": [
    {
     "data": {
      "text/plain": [
       "count    41449.000000\n",
       "mean         0.018547\n",
       "std          0.075085\n",
       "min          0.000000\n",
       "25%          0.000000\n",
       "50%          0.000000\n",
       "75%          0.000000\n",
       "max          1.000000\n",
       "Name: STATUS, dtype: float64"
      ]
     },
     "execution_count": 28,
     "metadata": {},
     "output_type": "execute_result"
    }
   ],
   "source": [
    "credit_record_df[\"STATUS\"].describe()"
   ]
  },
  {
   "cell_type": "code",
   "execution_count": 29,
   "id": "63fb5bd5",
   "metadata": {
    "colab": {
     "base_uri": "https://localhost:8080/",
     "height": 206
    },
    "executionInfo": {
     "elapsed": 10,
     "status": "ok",
     "timestamp": 1681217546853,
     "user": {
      "displayName": "Stanley Nyarko Aboagye",
      "userId": "01236948860682234042"
     },
     "user_tz": -60
    },
    "id": "63fb5bd5",
    "outputId": "bb9143cf-7116-4624-f8c3-25f07ad22374"
   },
   "outputs": [
    {
     "data": {
      "text/html": [
       "<div>\n",
       "<style scoped>\n",
       "    .dataframe tbody tr th:only-of-type {\n",
       "        vertical-align: middle;\n",
       "    }\n",
       "\n",
       "    .dataframe tbody tr th {\n",
       "        vertical-align: top;\n",
       "    }\n",
       "\n",
       "    .dataframe thead th {\n",
       "        text-align: right;\n",
       "    }\n",
       "</style>\n",
       "<table border=\"1\" class=\"dataframe\">\n",
       "  <thead>\n",
       "    <tr style=\"text-align: right;\">\n",
       "      <th></th>\n",
       "      <th>ID</th>\n",
       "      <th>STATUS</th>\n",
       "    </tr>\n",
       "  </thead>\n",
       "  <tbody>\n",
       "    <tr>\n",
       "      <th>0</th>\n",
       "      <td>5001711</td>\n",
       "      <td>0</td>\n",
       "    </tr>\n",
       "    <tr>\n",
       "      <th>1</th>\n",
       "      <td>5001712</td>\n",
       "      <td>0</td>\n",
       "    </tr>\n",
       "    <tr>\n",
       "      <th>2</th>\n",
       "      <td>5001717</td>\n",
       "      <td>0</td>\n",
       "    </tr>\n",
       "    <tr>\n",
       "      <th>3</th>\n",
       "      <td>5001718</td>\n",
       "      <td>1</td>\n",
       "    </tr>\n",
       "    <tr>\n",
       "      <th>4</th>\n",
       "      <td>5001719</td>\n",
       "      <td>0</td>\n",
       "    </tr>\n",
       "  </tbody>\n",
       "</table>\n",
       "</div>"
      ],
      "text/plain": [
       "        ID  STATUS\n",
       "0  5001711       0\n",
       "1  5001712       0\n",
       "2  5001717       0\n",
       "3  5001718       1\n",
       "4  5001719       0"
      ]
     },
     "execution_count": 29,
     "metadata": {},
     "output_type": "execute_result"
    }
   ],
   "source": [
    "# Replace float values with binaries\n",
    "credit_record_df[\"Status2\"] = credit_record_df[\"STATUS\"].apply(lambda x: 1 if x > 0 else 0)\n",
    "credit_record_df.rename(columns = {\"STATUS\" : \"MONTH_BAL_AVG\", \"Status2\" : \"STATUS\"}, inplace = True)\n",
    "credit_record_df = credit_record_df.drop(columns=\"MONTH_BAL_AVG\", axis=1)\n",
    "\n",
    "credit_record_df.head()"
   ]
  },
  {
   "cell_type": "code",
   "execution_count": 30,
   "id": "5affff15",
   "metadata": {
    "colab": {
     "base_uri": "https://localhost:8080/"
    },
    "executionInfo": {
     "elapsed": 9,
     "status": "ok",
     "timestamp": 1681217546853,
     "user": {
      "displayName": "Stanley Nyarko Aboagye",
      "userId": "01236948860682234042"
     },
     "user_tz": -60
    },
    "id": "5affff15",
    "outputId": "a679afe6-e506-4d33-ad09-76d9fb93cdaf"
   },
   "outputs": [
    {
     "name": "stdout",
     "output_type": "stream",
     "text": [
      "Good Credit: 36099\n",
      "Bad Credit: 5350\n"
     ]
    }
   ],
   "source": [
    "print(f\"Good Credit: {len(credit_record_df[credit_record_df['STATUS'] == 0])}\")\n",
    "print(f\"Bad Credit: {len(credit_record_df[credit_record_df['STATUS'] == 1])}\")"
   ]
  },
  {
   "cell_type": "markdown",
   "id": "67be3730",
   "metadata": {
    "id": "67be3730"
   },
   "source": [
    "## Application records data Engineering"
   ]
  },
  {
   "cell_type": "code",
   "execution_count": 31,
   "id": "725c6f04",
   "metadata": {
    "colab": {
     "base_uri": "https://localhost:8080/"
    },
    "executionInfo": {
     "elapsed": 8,
     "status": "ok",
     "timestamp": 1681217546853,
     "user": {
      "displayName": "Stanley Nyarko Aboagye",
      "userId": "01236948860682234042"
     },
     "user_tz": -60
    },
    "id": "725c6f04",
    "outputId": "93dd1109-5231-4858-839b-1128d7034353"
   },
   "outputs": [
    {
     "data": {
      "text/plain": [
       "True"
      ]
     },
     "execution_count": 31,
     "metadata": {},
     "output_type": "execute_result"
    }
   ],
   "source": [
    "application_record_df.isnull().values.any()"
   ]
  },
  {
   "cell_type": "code",
   "execution_count": 32,
   "id": "ac27d222",
   "metadata": {
    "colab": {
     "base_uri": "https://localhost:8080/"
    },
    "executionInfo": {
     "elapsed": 8,
     "status": "ok",
     "timestamp": 1681217546854,
     "user": {
      "displayName": "Stanley Nyarko Aboagye",
      "userId": "01236948860682234042"
     },
     "user_tz": -60
    },
    "id": "ac27d222",
    "outputId": "e87ca2f6-5902-46e6-ba4b-7e471cc7db25"
   },
   "outputs": [
    {
     "data": {
      "text/plain": [
       "(438557, 19)"
      ]
     },
     "execution_count": 32,
     "metadata": {},
     "output_type": "execute_result"
    }
   ],
   "source": [
    "application_record_df.shape"
   ]
  },
  {
   "cell_type": "code",
   "execution_count": 33,
   "id": "2de7dd0c",
   "metadata": {
    "colab": {
     "base_uri": "https://localhost:8080/"
    },
    "executionInfo": {
     "elapsed": 272,
     "status": "ok",
     "timestamp": 1681217547119,
     "user": {
      "displayName": "Stanley Nyarko Aboagye",
      "userId": "01236948860682234042"
     },
     "user_tz": -60
    },
    "id": "2de7dd0c",
    "outputId": "d1624f28-d2c0-4e50-ddec-ff3429dd370a"
   },
   "outputs": [
    {
     "data": {
      "text/plain": [
       "Other                    134203\n",
       "Laborers                  78240\n",
       "Core staff                43007\n",
       "Sales staff               41098\n",
       "Managers                  35487\n",
       "Drivers                   26090\n",
       "High skill tech staff     17289\n",
       "Accountants               15985\n",
       "Medicine staff            13520\n",
       "Cooking staff              8076\n",
       "Security staff             7993\n",
       "Cleaning staff             5845\n",
       "Private service staff      3456\n",
       "Low-skill Laborers         2140\n",
       "Secretaries                2044\n",
       "Waiters/barmen staff       1665\n",
       "Realty agents              1041\n",
       "HR staff                    774\n",
       "IT staff                    604\n",
       "Name: OCCUPATION_TYPE, dtype: int64"
      ]
     },
     "execution_count": 33,
     "metadata": {},
     "output_type": "execute_result"
    }
   ],
   "source": [
    "# Renaming all nan values of occupation type as Other\n",
    "application_record_df.OCCUPATION_TYPE.replace(np.nan, 'Other', inplace = True)\n",
    "application_record_df.OCCUPATION_TYPE.value_counts()"
   ]
  },
  {
   "cell_type": "code",
   "execution_count": 34,
   "id": "3cf94bef",
   "metadata": {
    "colab": {
     "base_uri": "https://localhost:8080/"
    },
    "executionInfo": {
     "elapsed": 6,
     "status": "ok",
     "timestamp": 1681217547120,
     "user": {
      "displayName": "Stanley Nyarko Aboagye",
      "userId": "01236948860682234042"
     },
     "user_tz": -60
    },
    "id": "3cf94bef",
    "outputId": "eb63ed29-015b-4a3b-df90-e283edd038c1"
   },
   "outputs": [
    {
     "data": {
      "text/plain": [
       "AR_ID                    int64\n",
       "ID                       int64\n",
       "CODE_GENDER             object\n",
       "FLAG_OWN_CAR            object\n",
       "FLAG_OWN_REALTY         object\n",
       "CNT_CHILDREN             int64\n",
       "AMT_INCOME_TOTAL       float64\n",
       "NAME_INCOME_TYPE        object\n",
       "NAME_EDUCATION_TYPE     object\n",
       "NAME_FAMILY_STATUS      object\n",
       "NAME_HOUSING_TYPE       object\n",
       "DAYS_BIRTH               int64\n",
       "DAYS_EMPLOYED            int64\n",
       "FLAG_MOBIL               int64\n",
       "FLAG_WORK_PHONE          int64\n",
       "FLAG_PHONE               int64\n",
       "FLAG_EMAIL               int64\n",
       "OCCUPATION_TYPE         object\n",
       "CNT_FAM_MEMBERS        float64\n",
       "dtype: object"
      ]
     },
     "execution_count": 34,
     "metadata": {},
     "output_type": "execute_result"
    }
   ],
   "source": [
    "# Check datatypes \n",
    "application_record_df.dtypes"
   ]
  },
  {
   "cell_type": "code",
   "execution_count": 35,
   "id": "bd103e4f",
   "metadata": {
    "colab": {
     "base_uri": "https://localhost:8080/"
    },
    "executionInfo": {
     "elapsed": 262,
     "status": "ok",
     "timestamp": 1681217547378,
     "user": {
      "displayName": "Stanley Nyarko Aboagye",
      "userId": "01236948860682234042"
     },
     "user_tz": -60
    },
    "id": "bd103e4f",
    "outputId": "c8a042c9-8446-472c-d512-2a38ca64ad77"
   },
   "outputs": [
    {
     "data": {
      "text/plain": [
       "AR_ID                  438557\n",
       "ID                     438510\n",
       "CODE_GENDER                 2\n",
       "FLAG_OWN_CAR                2\n",
       "FLAG_OWN_REALTY             2\n",
       "CNT_CHILDREN               12\n",
       "AMT_INCOME_TOTAL          866\n",
       "NAME_INCOME_TYPE            5\n",
       "NAME_EDUCATION_TYPE         5\n",
       "NAME_FAMILY_STATUS          5\n",
       "NAME_HOUSING_TYPE           6\n",
       "DAYS_BIRTH              16379\n",
       "DAYS_EMPLOYED            9406\n",
       "FLAG_MOBIL                  1\n",
       "FLAG_WORK_PHONE             2\n",
       "FLAG_PHONE                  2\n",
       "FLAG_EMAIL                  2\n",
       "OCCUPATION_TYPE            19\n",
       "CNT_FAM_MEMBERS            13\n",
       "dtype: int64"
      ]
     },
     "execution_count": 35,
     "metadata": {},
     "output_type": "execute_result"
    }
   ],
   "source": [
    "# application_record.duplicated().count()\n",
    "# application_record[application_record.duplicated()]\n",
    "application_record_df.nunique()"
   ]
  },
  {
   "cell_type": "markdown",
   "id": "0454f482",
   "metadata": {
    "id": "0454f482"
   },
   "source": [
    "## Merging both datasets"
   ]
  },
  {
   "cell_type": "code",
   "execution_count": 36,
   "id": "857a5963",
   "metadata": {
    "colab": {
     "base_uri": "https://localhost:8080/",
     "height": 339
    },
    "executionInfo": {
     "elapsed": 8,
     "status": "ok",
     "timestamp": 1681217547379,
     "user": {
      "displayName": "Stanley Nyarko Aboagye",
      "userId": "01236948860682234042"
     },
     "user_tz": -60
    },
    "id": "857a5963",
    "outputId": "77de2e52-55c8-4787-fe40-dc2eb19b1faf"
   },
   "outputs": [
    {
     "data": {
      "text/html": [
       "<div>\n",
       "<style scoped>\n",
       "    .dataframe tbody tr th:only-of-type {\n",
       "        vertical-align: middle;\n",
       "    }\n",
       "\n",
       "    .dataframe tbody tr th {\n",
       "        vertical-align: top;\n",
       "    }\n",
       "\n",
       "    .dataframe thead th {\n",
       "        text-align: right;\n",
       "    }\n",
       "</style>\n",
       "<table border=\"1\" class=\"dataframe\">\n",
       "  <thead>\n",
       "    <tr style=\"text-align: right;\">\n",
       "      <th></th>\n",
       "      <th>0</th>\n",
       "      <th>1</th>\n",
       "      <th>2</th>\n",
       "      <th>3</th>\n",
       "      <th>4</th>\n",
       "    </tr>\n",
       "  </thead>\n",
       "  <tbody>\n",
       "    <tr>\n",
       "      <th>AR_ID</th>\n",
       "      <td>0</td>\n",
       "      <td>1</td>\n",
       "      <td>2</td>\n",
       "      <td>3</td>\n",
       "      <td>5</td>\n",
       "    </tr>\n",
       "    <tr>\n",
       "      <th>ID</th>\n",
       "      <td>5008804</td>\n",
       "      <td>5008805</td>\n",
       "      <td>5008806</td>\n",
       "      <td>5008808</td>\n",
       "      <td>5008810</td>\n",
       "    </tr>\n",
       "    <tr>\n",
       "      <th>CODE_GENDER</th>\n",
       "      <td>M</td>\n",
       "      <td>M</td>\n",
       "      <td>M</td>\n",
       "      <td>F</td>\n",
       "      <td>F</td>\n",
       "    </tr>\n",
       "    <tr>\n",
       "      <th>FLAG_OWN_CAR</th>\n",
       "      <td>Y</td>\n",
       "      <td>Y</td>\n",
       "      <td>Y</td>\n",
       "      <td>N</td>\n",
       "      <td>N</td>\n",
       "    </tr>\n",
       "    <tr>\n",
       "      <th>FLAG_OWN_REALTY</th>\n",
       "      <td>Y</td>\n",
       "      <td>Y</td>\n",
       "      <td>Y</td>\n",
       "      <td>Y</td>\n",
       "      <td>Y</td>\n",
       "    </tr>\n",
       "    <tr>\n",
       "      <th>CNT_CHILDREN</th>\n",
       "      <td>0</td>\n",
       "      <td>0</td>\n",
       "      <td>0</td>\n",
       "      <td>0</td>\n",
       "      <td>0</td>\n",
       "    </tr>\n",
       "    <tr>\n",
       "      <th>AMT_INCOME_TOTAL</th>\n",
       "      <td>427500.0</td>\n",
       "      <td>427500.0</td>\n",
       "      <td>112500.0</td>\n",
       "      <td>270000.0</td>\n",
       "      <td>270000.0</td>\n",
       "    </tr>\n",
       "    <tr>\n",
       "      <th>NAME_INCOME_TYPE</th>\n",
       "      <td>Working</td>\n",
       "      <td>Working</td>\n",
       "      <td>Working</td>\n",
       "      <td>Commercial associate</td>\n",
       "      <td>Commercial associate</td>\n",
       "    </tr>\n",
       "    <tr>\n",
       "      <th>NAME_EDUCATION_TYPE</th>\n",
       "      <td>Higher education</td>\n",
       "      <td>Higher education</td>\n",
       "      <td>Secondary / secondary special</td>\n",
       "      <td>Secondary / secondary special</td>\n",
       "      <td>Secondary / secondary special</td>\n",
       "    </tr>\n",
       "    <tr>\n",
       "      <th>NAME_FAMILY_STATUS</th>\n",
       "      <td>Civil marriage</td>\n",
       "      <td>Civil marriage</td>\n",
       "      <td>Married</td>\n",
       "      <td>Single / not married</td>\n",
       "      <td>Single / not married</td>\n",
       "    </tr>\n",
       "    <tr>\n",
       "      <th>NAME_HOUSING_TYPE</th>\n",
       "      <td>Rented apartment</td>\n",
       "      <td>Rented apartment</td>\n",
       "      <td>House / apartment</td>\n",
       "      <td>House / apartment</td>\n",
       "      <td>House / apartment</td>\n",
       "    </tr>\n",
       "    <tr>\n",
       "      <th>DAYS_BIRTH</th>\n",
       "      <td>-12005</td>\n",
       "      <td>-12005</td>\n",
       "      <td>-21474</td>\n",
       "      <td>-19110</td>\n",
       "      <td>-19110</td>\n",
       "    </tr>\n",
       "    <tr>\n",
       "      <th>DAYS_EMPLOYED</th>\n",
       "      <td>-4542</td>\n",
       "      <td>-4542</td>\n",
       "      <td>-1134</td>\n",
       "      <td>-3051</td>\n",
       "      <td>-3051</td>\n",
       "    </tr>\n",
       "    <tr>\n",
       "      <th>FLAG_MOBIL</th>\n",
       "      <td>1</td>\n",
       "      <td>1</td>\n",
       "      <td>1</td>\n",
       "      <td>1</td>\n",
       "      <td>1</td>\n",
       "    </tr>\n",
       "    <tr>\n",
       "      <th>FLAG_WORK_PHONE</th>\n",
       "      <td>1</td>\n",
       "      <td>1</td>\n",
       "      <td>0</td>\n",
       "      <td>0</td>\n",
       "      <td>0</td>\n",
       "    </tr>\n",
       "    <tr>\n",
       "      <th>FLAG_PHONE</th>\n",
       "      <td>0</td>\n",
       "      <td>0</td>\n",
       "      <td>0</td>\n",
       "      <td>1</td>\n",
       "      <td>1</td>\n",
       "    </tr>\n",
       "    <tr>\n",
       "      <th>FLAG_EMAIL</th>\n",
       "      <td>0</td>\n",
       "      <td>0</td>\n",
       "      <td>0</td>\n",
       "      <td>1</td>\n",
       "      <td>1</td>\n",
       "    </tr>\n",
       "    <tr>\n",
       "      <th>OCCUPATION_TYPE</th>\n",
       "      <td>Other</td>\n",
       "      <td>Other</td>\n",
       "      <td>Security staff</td>\n",
       "      <td>Sales staff</td>\n",
       "      <td>Sales staff</td>\n",
       "    </tr>\n",
       "    <tr>\n",
       "      <th>CNT_FAM_MEMBERS</th>\n",
       "      <td>2.0</td>\n",
       "      <td>2.0</td>\n",
       "      <td>2.0</td>\n",
       "      <td>1.0</td>\n",
       "      <td>1.0</td>\n",
       "    </tr>\n",
       "    <tr>\n",
       "      <th>STATUS</th>\n",
       "      <td>1</td>\n",
       "      <td>1</td>\n",
       "      <td>0</td>\n",
       "      <td>0</td>\n",
       "      <td>0</td>\n",
       "    </tr>\n",
       "  </tbody>\n",
       "</table>\n",
       "</div>"
      ],
      "text/plain": [
       "                                    0                 1  \\\n",
       "AR_ID                               0                 1   \n",
       "ID                            5008804           5008805   \n",
       "CODE_GENDER                         M                 M   \n",
       "FLAG_OWN_CAR                        Y                 Y   \n",
       "FLAG_OWN_REALTY                     Y                 Y   \n",
       "CNT_CHILDREN                        0                 0   \n",
       "AMT_INCOME_TOTAL             427500.0          427500.0   \n",
       "NAME_INCOME_TYPE              Working           Working   \n",
       "NAME_EDUCATION_TYPE  Higher education  Higher education   \n",
       "NAME_FAMILY_STATUS     Civil marriage    Civil marriage   \n",
       "NAME_HOUSING_TYPE    Rented apartment  Rented apartment   \n",
       "DAYS_BIRTH                     -12005            -12005   \n",
       "DAYS_EMPLOYED                   -4542             -4542   \n",
       "FLAG_MOBIL                          1                 1   \n",
       "FLAG_WORK_PHONE                     1                 1   \n",
       "FLAG_PHONE                          0                 0   \n",
       "FLAG_EMAIL                          0                 0   \n",
       "OCCUPATION_TYPE                 Other             Other   \n",
       "CNT_FAM_MEMBERS                   2.0               2.0   \n",
       "STATUS                              1                 1   \n",
       "\n",
       "                                                 2  \\\n",
       "AR_ID                                            2   \n",
       "ID                                         5008806   \n",
       "CODE_GENDER                                      M   \n",
       "FLAG_OWN_CAR                                     Y   \n",
       "FLAG_OWN_REALTY                                  Y   \n",
       "CNT_CHILDREN                                     0   \n",
       "AMT_INCOME_TOTAL                          112500.0   \n",
       "NAME_INCOME_TYPE                           Working   \n",
       "NAME_EDUCATION_TYPE  Secondary / secondary special   \n",
       "NAME_FAMILY_STATUS                         Married   \n",
       "NAME_HOUSING_TYPE                House / apartment   \n",
       "DAYS_BIRTH                                  -21474   \n",
       "DAYS_EMPLOYED                                -1134   \n",
       "FLAG_MOBIL                                       1   \n",
       "FLAG_WORK_PHONE                                  0   \n",
       "FLAG_PHONE                                       0   \n",
       "FLAG_EMAIL                                       0   \n",
       "OCCUPATION_TYPE                     Security staff   \n",
       "CNT_FAM_MEMBERS                                2.0   \n",
       "STATUS                                           0   \n",
       "\n",
       "                                                 3  \\\n",
       "AR_ID                                            3   \n",
       "ID                                         5008808   \n",
       "CODE_GENDER                                      F   \n",
       "FLAG_OWN_CAR                                     N   \n",
       "FLAG_OWN_REALTY                                  Y   \n",
       "CNT_CHILDREN                                     0   \n",
       "AMT_INCOME_TOTAL                          270000.0   \n",
       "NAME_INCOME_TYPE              Commercial associate   \n",
       "NAME_EDUCATION_TYPE  Secondary / secondary special   \n",
       "NAME_FAMILY_STATUS            Single / not married   \n",
       "NAME_HOUSING_TYPE                House / apartment   \n",
       "DAYS_BIRTH                                  -19110   \n",
       "DAYS_EMPLOYED                                -3051   \n",
       "FLAG_MOBIL                                       1   \n",
       "FLAG_WORK_PHONE                                  0   \n",
       "FLAG_PHONE                                       1   \n",
       "FLAG_EMAIL                                       1   \n",
       "OCCUPATION_TYPE                        Sales staff   \n",
       "CNT_FAM_MEMBERS                                1.0   \n",
       "STATUS                                           0   \n",
       "\n",
       "                                                 4  \n",
       "AR_ID                                            5  \n",
       "ID                                         5008810  \n",
       "CODE_GENDER                                      F  \n",
       "FLAG_OWN_CAR                                     N  \n",
       "FLAG_OWN_REALTY                                  Y  \n",
       "CNT_CHILDREN                                     0  \n",
       "AMT_INCOME_TOTAL                          270000.0  \n",
       "NAME_INCOME_TYPE              Commercial associate  \n",
       "NAME_EDUCATION_TYPE  Secondary / secondary special  \n",
       "NAME_FAMILY_STATUS            Single / not married  \n",
       "NAME_HOUSING_TYPE                House / apartment  \n",
       "DAYS_BIRTH                                  -19110  \n",
       "DAYS_EMPLOYED                                -3051  \n",
       "FLAG_MOBIL                                       1  \n",
       "FLAG_WORK_PHONE                                  0  \n",
       "FLAG_PHONE                                       1  \n",
       "FLAG_EMAIL                                       1  \n",
       "OCCUPATION_TYPE                        Sales staff  \n",
       "CNT_FAM_MEMBERS                                1.0  \n",
       "STATUS                                           0  "
      ]
     },
     "metadata": {},
     "output_type": "display_data"
    },
    {
     "data": {
      "text/plain": [
       "(33110, 20)"
      ]
     },
     "execution_count": 36,
     "metadata": {},
     "output_type": "execute_result"
    }
   ],
   "source": [
    "# Merge the two datasets keeping only IDs common to both dataframes\n",
    "full_df = application_record_df.merge(credit_record_df, on=['ID'], how='inner')\n",
    "display(full_df.head().T)\n",
    "full_df.shape"
   ]
  },
  {
   "cell_type": "code",
   "execution_count": 37,
   "id": "06bb29a4",
   "metadata": {},
   "outputs": [
    {
     "data": {
      "text/plain": [
       "0    28819\n",
       "1     4291\n",
       "Name: STATUS, dtype: int64"
      ]
     },
     "execution_count": 37,
     "metadata": {},
     "output_type": "execute_result"
    }
   ],
   "source": [
    "full_df['STATUS'].value_counts()"
   ]
  },
  {
   "cell_type": "markdown",
   "id": "55bfe7e8",
   "metadata": {},
   "source": [
    "### Dropping irrelevant AR_ID, ID values "
   ]
  },
  {
   "cell_type": "code",
   "execution_count": 38,
   "id": "48f33db2",
   "metadata": {},
   "outputs": [
    {
     "data": {
      "text/html": [
       "<div>\n",
       "<style scoped>\n",
       "    .dataframe tbody tr th:only-of-type {\n",
       "        vertical-align: middle;\n",
       "    }\n",
       "\n",
       "    .dataframe tbody tr th {\n",
       "        vertical-align: top;\n",
       "    }\n",
       "\n",
       "    .dataframe thead th {\n",
       "        text-align: right;\n",
       "    }\n",
       "</style>\n",
       "<table border=\"1\" class=\"dataframe\">\n",
       "  <thead>\n",
       "    <tr style=\"text-align: right;\">\n",
       "      <th></th>\n",
       "      <th>CODE_GENDER</th>\n",
       "      <th>FLAG_OWN_CAR</th>\n",
       "      <th>FLAG_OWN_REALTY</th>\n",
       "      <th>CNT_CHILDREN</th>\n",
       "      <th>AMT_INCOME_TOTAL</th>\n",
       "      <th>NAME_INCOME_TYPE</th>\n",
       "      <th>NAME_EDUCATION_TYPE</th>\n",
       "      <th>NAME_FAMILY_STATUS</th>\n",
       "      <th>NAME_HOUSING_TYPE</th>\n",
       "      <th>DAYS_BIRTH</th>\n",
       "      <th>DAYS_EMPLOYED</th>\n",
       "      <th>FLAG_MOBIL</th>\n",
       "      <th>FLAG_WORK_PHONE</th>\n",
       "      <th>FLAG_PHONE</th>\n",
       "      <th>FLAG_EMAIL</th>\n",
       "      <th>OCCUPATION_TYPE</th>\n",
       "      <th>CNT_FAM_MEMBERS</th>\n",
       "      <th>STATUS</th>\n",
       "    </tr>\n",
       "  </thead>\n",
       "  <tbody>\n",
       "    <tr>\n",
       "      <th>0</th>\n",
       "      <td>M</td>\n",
       "      <td>Y</td>\n",
       "      <td>Y</td>\n",
       "      <td>0</td>\n",
       "      <td>427500.0</td>\n",
       "      <td>Working</td>\n",
       "      <td>Higher education</td>\n",
       "      <td>Civil marriage</td>\n",
       "      <td>Rented apartment</td>\n",
       "      <td>-12005</td>\n",
       "      <td>-4542</td>\n",
       "      <td>1</td>\n",
       "      <td>1</td>\n",
       "      <td>0</td>\n",
       "      <td>0</td>\n",
       "      <td>Other</td>\n",
       "      <td>2.0</td>\n",
       "      <td>1</td>\n",
       "    </tr>\n",
       "    <tr>\n",
       "      <th>1</th>\n",
       "      <td>M</td>\n",
       "      <td>Y</td>\n",
       "      <td>Y</td>\n",
       "      <td>0</td>\n",
       "      <td>427500.0</td>\n",
       "      <td>Working</td>\n",
       "      <td>Higher education</td>\n",
       "      <td>Civil marriage</td>\n",
       "      <td>Rented apartment</td>\n",
       "      <td>-12005</td>\n",
       "      <td>-4542</td>\n",
       "      <td>1</td>\n",
       "      <td>1</td>\n",
       "      <td>0</td>\n",
       "      <td>0</td>\n",
       "      <td>Other</td>\n",
       "      <td>2.0</td>\n",
       "      <td>1</td>\n",
       "    </tr>\n",
       "    <tr>\n",
       "      <th>2</th>\n",
       "      <td>M</td>\n",
       "      <td>Y</td>\n",
       "      <td>Y</td>\n",
       "      <td>0</td>\n",
       "      <td>112500.0</td>\n",
       "      <td>Working</td>\n",
       "      <td>Secondary / secondary special</td>\n",
       "      <td>Married</td>\n",
       "      <td>House / apartment</td>\n",
       "      <td>-21474</td>\n",
       "      <td>-1134</td>\n",
       "      <td>1</td>\n",
       "      <td>0</td>\n",
       "      <td>0</td>\n",
       "      <td>0</td>\n",
       "      <td>Security staff</td>\n",
       "      <td>2.0</td>\n",
       "      <td>0</td>\n",
       "    </tr>\n",
       "    <tr>\n",
       "      <th>3</th>\n",
       "      <td>F</td>\n",
       "      <td>N</td>\n",
       "      <td>Y</td>\n",
       "      <td>0</td>\n",
       "      <td>270000.0</td>\n",
       "      <td>Commercial associate</td>\n",
       "      <td>Secondary / secondary special</td>\n",
       "      <td>Single / not married</td>\n",
       "      <td>House / apartment</td>\n",
       "      <td>-19110</td>\n",
       "      <td>-3051</td>\n",
       "      <td>1</td>\n",
       "      <td>0</td>\n",
       "      <td>1</td>\n",
       "      <td>1</td>\n",
       "      <td>Sales staff</td>\n",
       "      <td>1.0</td>\n",
       "      <td>0</td>\n",
       "    </tr>\n",
       "    <tr>\n",
       "      <th>4</th>\n",
       "      <td>F</td>\n",
       "      <td>N</td>\n",
       "      <td>Y</td>\n",
       "      <td>0</td>\n",
       "      <td>270000.0</td>\n",
       "      <td>Commercial associate</td>\n",
       "      <td>Secondary / secondary special</td>\n",
       "      <td>Single / not married</td>\n",
       "      <td>House / apartment</td>\n",
       "      <td>-19110</td>\n",
       "      <td>-3051</td>\n",
       "      <td>1</td>\n",
       "      <td>0</td>\n",
       "      <td>1</td>\n",
       "      <td>1</td>\n",
       "      <td>Sales staff</td>\n",
       "      <td>1.0</td>\n",
       "      <td>0</td>\n",
       "    </tr>\n",
       "  </tbody>\n",
       "</table>\n",
       "</div>"
      ],
      "text/plain": [
       "  CODE_GENDER FLAG_OWN_CAR FLAG_OWN_REALTY  CNT_CHILDREN  AMT_INCOME_TOTAL  \\\n",
       "0           M            Y               Y             0          427500.0   \n",
       "1           M            Y               Y             0          427500.0   \n",
       "2           M            Y               Y             0          112500.0   \n",
       "3           F            N               Y             0          270000.0   \n",
       "4           F            N               Y             0          270000.0   \n",
       "\n",
       "       NAME_INCOME_TYPE            NAME_EDUCATION_TYPE    NAME_FAMILY_STATUS  \\\n",
       "0               Working               Higher education        Civil marriage   \n",
       "1               Working               Higher education        Civil marriage   \n",
       "2               Working  Secondary / secondary special               Married   \n",
       "3  Commercial associate  Secondary / secondary special  Single / not married   \n",
       "4  Commercial associate  Secondary / secondary special  Single / not married   \n",
       "\n",
       "   NAME_HOUSING_TYPE  DAYS_BIRTH  DAYS_EMPLOYED  FLAG_MOBIL  FLAG_WORK_PHONE  \\\n",
       "0   Rented apartment      -12005          -4542           1                1   \n",
       "1   Rented apartment      -12005          -4542           1                1   \n",
       "2  House / apartment      -21474          -1134           1                0   \n",
       "3  House / apartment      -19110          -3051           1                0   \n",
       "4  House / apartment      -19110          -3051           1                0   \n",
       "\n",
       "   FLAG_PHONE  FLAG_EMAIL OCCUPATION_TYPE  CNT_FAM_MEMBERS  STATUS  \n",
       "0           0           0           Other              2.0       1  \n",
       "1           0           0           Other              2.0       1  \n",
       "2           0           0  Security staff              2.0       0  \n",
       "3           1           1     Sales staff              1.0       0  \n",
       "4           1           1     Sales staff              1.0       0  "
      ]
     },
     "execution_count": 38,
     "metadata": {},
     "output_type": "execute_result"
    }
   ],
   "source": [
    "full_df = full_df.drop(columns=[full_df.columns[0], full_df.columns[1]])\n",
    "full_df.head()"
   ]
  },
  {
   "cell_type": "code",
   "execution_count": 39,
   "id": "38274626",
   "metadata": {},
   "outputs": [],
   "source": [
    "full_df.to_csv(\"Output/pre_encoded.csv\", index=False)"
   ]
  },
  {
   "cell_type": "markdown",
   "id": "6c03a5f4",
   "metadata": {
    "id": "6c03a5f4"
   },
   "source": [
    "## Encoding Categorical columns"
   ]
  },
  {
   "cell_type": "code",
   "execution_count": 40,
   "id": "8ddcce72",
   "metadata": {},
   "outputs": [],
   "source": [
    "pre_encoded_df = pd.read_csv(\"Output/pre_encoded.csv\")"
   ]
  },
  {
   "cell_type": "code",
   "execution_count": 41,
   "id": "510156d0",
   "metadata": {},
   "outputs": [
    {
     "data": {
      "text/html": [
       "<div>\n",
       "<style scoped>\n",
       "    .dataframe tbody tr th:only-of-type {\n",
       "        vertical-align: middle;\n",
       "    }\n",
       "\n",
       "    .dataframe tbody tr th {\n",
       "        vertical-align: top;\n",
       "    }\n",
       "\n",
       "    .dataframe thead th {\n",
       "        text-align: right;\n",
       "    }\n",
       "</style>\n",
       "<table border=\"1\" class=\"dataframe\">\n",
       "  <thead>\n",
       "    <tr style=\"text-align: right;\">\n",
       "      <th></th>\n",
       "      <th>CODE_GENDER</th>\n",
       "      <th>FLAG_OWN_CAR</th>\n",
       "      <th>FLAG_OWN_REALTY</th>\n",
       "      <th>CNT_CHILDREN</th>\n",
       "      <th>AMT_INCOME_TOTAL</th>\n",
       "      <th>NAME_INCOME_TYPE</th>\n",
       "      <th>NAME_EDUCATION_TYPE</th>\n",
       "      <th>NAME_FAMILY_STATUS</th>\n",
       "      <th>NAME_HOUSING_TYPE</th>\n",
       "      <th>DAYS_BIRTH</th>\n",
       "      <th>DAYS_EMPLOYED</th>\n",
       "      <th>FLAG_MOBIL</th>\n",
       "      <th>FLAG_WORK_PHONE</th>\n",
       "      <th>FLAG_PHONE</th>\n",
       "      <th>FLAG_EMAIL</th>\n",
       "      <th>OCCUPATION_TYPE</th>\n",
       "      <th>CNT_FAM_MEMBERS</th>\n",
       "      <th>STATUS</th>\n",
       "    </tr>\n",
       "  </thead>\n",
       "  <tbody>\n",
       "    <tr>\n",
       "      <th>0</th>\n",
       "      <td>M</td>\n",
       "      <td>Y</td>\n",
       "      <td>Y</td>\n",
       "      <td>0</td>\n",
       "      <td>427500.0</td>\n",
       "      <td>Working</td>\n",
       "      <td>Higher education</td>\n",
       "      <td>Civil marriage</td>\n",
       "      <td>Rented apartment</td>\n",
       "      <td>-12005</td>\n",
       "      <td>-4542</td>\n",
       "      <td>1</td>\n",
       "      <td>1</td>\n",
       "      <td>0</td>\n",
       "      <td>0</td>\n",
       "      <td>Other</td>\n",
       "      <td>2.0</td>\n",
       "      <td>1</td>\n",
       "    </tr>\n",
       "    <tr>\n",
       "      <th>1</th>\n",
       "      <td>M</td>\n",
       "      <td>Y</td>\n",
       "      <td>Y</td>\n",
       "      <td>0</td>\n",
       "      <td>427500.0</td>\n",
       "      <td>Working</td>\n",
       "      <td>Higher education</td>\n",
       "      <td>Civil marriage</td>\n",
       "      <td>Rented apartment</td>\n",
       "      <td>-12005</td>\n",
       "      <td>-4542</td>\n",
       "      <td>1</td>\n",
       "      <td>1</td>\n",
       "      <td>0</td>\n",
       "      <td>0</td>\n",
       "      <td>Other</td>\n",
       "      <td>2.0</td>\n",
       "      <td>1</td>\n",
       "    </tr>\n",
       "    <tr>\n",
       "      <th>2</th>\n",
       "      <td>M</td>\n",
       "      <td>Y</td>\n",
       "      <td>Y</td>\n",
       "      <td>0</td>\n",
       "      <td>112500.0</td>\n",
       "      <td>Working</td>\n",
       "      <td>Secondary / secondary special</td>\n",
       "      <td>Married</td>\n",
       "      <td>House / apartment</td>\n",
       "      <td>-21474</td>\n",
       "      <td>-1134</td>\n",
       "      <td>1</td>\n",
       "      <td>0</td>\n",
       "      <td>0</td>\n",
       "      <td>0</td>\n",
       "      <td>Security staff</td>\n",
       "      <td>2.0</td>\n",
       "      <td>0</td>\n",
       "    </tr>\n",
       "    <tr>\n",
       "      <th>3</th>\n",
       "      <td>F</td>\n",
       "      <td>N</td>\n",
       "      <td>Y</td>\n",
       "      <td>0</td>\n",
       "      <td>270000.0</td>\n",
       "      <td>Commercial associate</td>\n",
       "      <td>Secondary / secondary special</td>\n",
       "      <td>Single / not married</td>\n",
       "      <td>House / apartment</td>\n",
       "      <td>-19110</td>\n",
       "      <td>-3051</td>\n",
       "      <td>1</td>\n",
       "      <td>0</td>\n",
       "      <td>1</td>\n",
       "      <td>1</td>\n",
       "      <td>Sales staff</td>\n",
       "      <td>1.0</td>\n",
       "      <td>0</td>\n",
       "    </tr>\n",
       "    <tr>\n",
       "      <th>4</th>\n",
       "      <td>F</td>\n",
       "      <td>N</td>\n",
       "      <td>Y</td>\n",
       "      <td>0</td>\n",
       "      <td>270000.0</td>\n",
       "      <td>Commercial associate</td>\n",
       "      <td>Secondary / secondary special</td>\n",
       "      <td>Single / not married</td>\n",
       "      <td>House / apartment</td>\n",
       "      <td>-19110</td>\n",
       "      <td>-3051</td>\n",
       "      <td>1</td>\n",
       "      <td>0</td>\n",
       "      <td>1</td>\n",
       "      <td>1</td>\n",
       "      <td>Sales staff</td>\n",
       "      <td>1.0</td>\n",
       "      <td>0</td>\n",
       "    </tr>\n",
       "  </tbody>\n",
       "</table>\n",
       "</div>"
      ],
      "text/plain": [
       "  CODE_GENDER FLAG_OWN_CAR FLAG_OWN_REALTY  CNT_CHILDREN  AMT_INCOME_TOTAL  \\\n",
       "0           M            Y               Y             0          427500.0   \n",
       "1           M            Y               Y             0          427500.0   \n",
       "2           M            Y               Y             0          112500.0   \n",
       "3           F            N               Y             0          270000.0   \n",
       "4           F            N               Y             0          270000.0   \n",
       "\n",
       "       NAME_INCOME_TYPE            NAME_EDUCATION_TYPE    NAME_FAMILY_STATUS  \\\n",
       "0               Working               Higher education        Civil marriage   \n",
       "1               Working               Higher education        Civil marriage   \n",
       "2               Working  Secondary / secondary special               Married   \n",
       "3  Commercial associate  Secondary / secondary special  Single / not married   \n",
       "4  Commercial associate  Secondary / secondary special  Single / not married   \n",
       "\n",
       "   NAME_HOUSING_TYPE  DAYS_BIRTH  DAYS_EMPLOYED  FLAG_MOBIL  FLAG_WORK_PHONE  \\\n",
       "0   Rented apartment      -12005          -4542           1                1   \n",
       "1   Rented apartment      -12005          -4542           1                1   \n",
       "2  House / apartment      -21474          -1134           1                0   \n",
       "3  House / apartment      -19110          -3051           1                0   \n",
       "4  House / apartment      -19110          -3051           1                0   \n",
       "\n",
       "   FLAG_PHONE  FLAG_EMAIL OCCUPATION_TYPE  CNT_FAM_MEMBERS  STATUS  \n",
       "0           0           0           Other              2.0       1  \n",
       "1           0           0           Other              2.0       1  \n",
       "2           0           0  Security staff              2.0       0  \n",
       "3           1           1     Sales staff              1.0       0  \n",
       "4           1           1     Sales staff              1.0       0  "
      ]
     },
     "execution_count": 41,
     "metadata": {},
     "output_type": "execute_result"
    }
   ],
   "source": [
    "pre_encoded_df.head()"
   ]
  },
  {
   "cell_type": "code",
   "execution_count": 42,
   "id": "6ea6abb7",
   "metadata": {
    "colab": {
     "base_uri": "https://localhost:8080/"
    },
    "executionInfo": {
     "elapsed": 7,
     "status": "ok",
     "timestamp": 1681217547379,
     "user": {
      "displayName": "Stanley Nyarko Aboagye",
      "userId": "01236948860682234042"
     },
     "user_tz": -60
    },
    "id": "6ea6abb7",
    "outputId": "4981c93f-9855-4e2a-e8d3-91eb427fcf87"
   },
   "outputs": [
    {
     "data": {
      "text/plain": [
       "['CODE_GENDER',\n",
       " 'FLAG_OWN_CAR',\n",
       " 'FLAG_OWN_REALTY',\n",
       " 'NAME_INCOME_TYPE',\n",
       " 'NAME_EDUCATION_TYPE',\n",
       " 'NAME_FAMILY_STATUS',\n",
       " 'NAME_HOUSING_TYPE',\n",
       " 'OCCUPATION_TYPE']"
      ]
     },
     "execution_count": 42,
     "metadata": {},
     "output_type": "execute_result"
    }
   ],
   "source": [
    "# Get the list of all categorical columns\n",
    "categorical_cols = pre_encoded_df.select_dtypes(exclude='number').columns.tolist()\n",
    "categorical_cols"
   ]
  },
  {
   "cell_type": "code",
   "execution_count": 43,
   "id": "269e11fd",
   "metadata": {
    "colab": {
     "base_uri": "https://localhost:8080/"
    },
    "executionInfo": {
     "elapsed": 6,
     "status": "ok",
     "timestamp": 1681217547379,
     "user": {
      "displayName": "Stanley Nyarko Aboagye",
      "userId": "01236948860682234042"
     },
     "user_tz": -60
    },
    "id": "269e11fd",
    "outputId": "38f08d8c-b011-45bc-b94a-e70a5bc2e72d",
    "scrolled": true
   },
   "outputs": [
    {
     "name": "stdout",
     "output_type": "stream",
     "text": [
      ">>> CODE_GENDER => ['M' 'F']\n",
      "  --------------------------------------------\n",
      ">>> FLAG_OWN_CAR => ['Y' 'N']\n",
      "  --------------------------------------------\n",
      ">>> FLAG_OWN_REALTY => ['Y' 'N']\n",
      "  --------------------------------------------\n",
      ">>> NAME_INCOME_TYPE => ['Working' 'Commercial associate' 'Pensioner' 'State servant' 'Student']\n",
      "  --------------------------------------------\n",
      ">>> NAME_EDUCATION_TYPE => ['Higher education' 'Secondary / secondary special' 'Incomplete higher'\n",
      " 'Lower secondary' 'Academic degree']\n",
      "  --------------------------------------------\n",
      ">>> NAME_FAMILY_STATUS => ['Civil marriage' 'Married' 'Single / not married' 'Separated' 'Widow']\n",
      "  --------------------------------------------\n",
      ">>> NAME_HOUSING_TYPE => ['Rented apartment' 'House / apartment' 'Municipal apartment'\n",
      " 'With parents' 'Co-op apartment' 'Office apartment']\n",
      "  --------------------------------------------\n",
      ">>> OCCUPATION_TYPE => ['Other' 'Security staff' 'Sales staff' 'Accountants' 'Laborers'\n",
      " 'Managers' 'Drivers' 'Core staff' 'High skill tech staff'\n",
      " 'Cleaning staff' 'Cooking staff' 'Low-skill Laborers' 'Medicine staff'\n",
      " 'Private service staff' 'Secretaries' 'Waiters/barmen staff' 'HR staff'\n",
      " 'IT staff' 'Realty agents']\n",
      "  --------------------------------------------\n"
     ]
    }
   ],
   "source": [
    "# list all unique values all categorical columns\n",
    "for li in categorical_cols:\n",
    "    print(f\">>> {li} => {pre_encoded_df[li].unique()}\\n  --------------------------------------------\")\n",
    "\n",
    "# print(\"\\n____________________________\\nCREDIT RECORD STATUS UNIQUE VALUES\")"
   ]
  },
  {
   "cell_type": "code",
   "execution_count": 44,
   "id": "QCnqb_avOBHA",
   "metadata": {
    "colab": {
     "base_uri": "https://localhost:8080/"
    },
    "executionInfo": {
     "elapsed": 5,
     "status": "ok",
     "timestamp": 1681217547379,
     "user": {
      "displayName": "Stanley Nyarko Aboagye",
      "userId": "01236948860682234042"
     },
     "user_tz": -60
    },
    "id": "QCnqb_avOBHA",
    "outputId": "e0c3ed0a-9de5-4648-8f9b-51c7f50654a0"
   },
   "outputs": [
    {
     "name": "stdout",
     "output_type": "stream",
     "text": [
      "columns to analyse => ['NAME_INCOME_TYPE', 'NAME_EDUCATION_TYPE', 'NAME_FAMILY_STATUS', 'NAME_HOUSING_TYPE', 'OCCUPATION_TYPE']\n"
     ]
    }
   ],
   "source": [
    "categorical_cols_to_analyse = categorical_cols[3:]\n",
    "print(\"columns to analyse =>\", categorical_cols_to_analyse)"
   ]
  },
  {
   "cell_type": "code",
   "execution_count": 45,
   "id": "hYPXYGPMM90H",
   "metadata": {
    "executionInfo": {
     "elapsed": 3,
     "status": "ok",
     "timestamp": 1681217547379,
     "user": {
      "displayName": "Stanley Nyarko Aboagye",
      "userId": "01236948860682234042"
     },
     "user_tz": -60
    },
    "id": "hYPXYGPMM90H"
   },
   "outputs": [],
   "source": [
    "def grouped_bar(df_column, titl, plot_width, font_size=8):  \n",
    "  unique_income_type = df_column.unique().tolist()\n",
    "  lst = []\n",
    "  for li in unique_income_type:\n",
    "    zeros_ones = \"\"\n",
    "    zeros_ones = Counter((pre_encoded_df.loc[df_column == li, 'STATUS']).tolist())\n",
    "    lst.append(zeros_ones)\n",
    "\n",
    "  heal = [i[0] for i in lst]\n",
    "  unheal = [i[1] for i in lst]\n",
    "\n",
    "  def perchealthy_unhealthy(heal, unheal):\n",
    "    healthy = list(map(lambda x, y: (x/(x + y))*100, heal, unheal))\n",
    "    unhealthy = list(map(lambda x, y: (y/(x + y))*100, heal, unheal))\n",
    "    healthy.extend(unhealthy)\n",
    "    return healthy\n",
    "\n",
    "  def perc_healthy(heal, unheal):\n",
    "    healthy = list(map(lambda x, y: (x/(x + y))*100, heal, unheal))\n",
    "    return healthy\n",
    "\n",
    "  def perc_unhealthy(heal, unheal):\n",
    "    unhealthy = list(map(lambda x, y: (y/(x + y))*100, heal, unheal))\n",
    "    return unhealthy\n",
    "\n",
    "  fig, ax = plt.subplots(figsize=(plot_width, 4))\n",
    "  x = np.arange(len(unique_income_type))  # the label locations\n",
    "  width = 0.4  # the width of the bars\n",
    "\n",
    "  b1 = ax.bar(x, [i[0] for i in lst], width=width, label=\"Good Credit\")\n",
    "  # b1 = ax.bar(x, perc_healthy(heal, unheal), width=width, label=\"Good Credit\")\n",
    "  b2 = ax.bar(x+ width, [i[1] for i in lst], width=width, label=\"Bad Credit\")\n",
    "  # b2 = ax.bar(x+ width, perc_unhealthy(heal, unheal), width=width, label=\"Bad Credit\")\n",
    "  ax.set_ylabel('Credit Status Counts')\n",
    "  ax.set_title(titl)\n",
    "  ax.set_xticks(x + width / 2)\n",
    "  ax.set_xticklabels(unique_income_type)\n",
    "  ax.legend(loc='upper right')\n",
    "  # ax.set_ylim(0, 100)\n",
    "\n",
    "  ax.spines['top'].set_visible(False)\n",
    "  ax.spines['right'].set_visible(False)\n",
    "  ax.spines['left'].set_visible(False)\n",
    "  ax.spines['bottom'].set_color('#DDDDDD')\n",
    "  ax.tick_params(bottom=False, left=False)\n",
    "  ax.set_axisbelow(True)\n",
    "  ax.yaxis.grid(True, color='#EEEEEE')\n",
    "  ax.xaxis.grid(False)\n",
    "  plt.xticks(rotation = 80)\n",
    "  \n",
    "  print(perchealthy_unhealthy(heal, unheal))\n",
    "\n",
    "  print(ax.patches)\n",
    "  for i, bar in enumerate(ax.patches):\n",
    "    \n",
    "    bar_value = bar.get_height()\n",
    "    text = '{:.2f}%'.format(perchealthy_unhealthy(heal, unheal)[i])\n",
    "    text_x = bar.get_x() + bar.get_width() / 2\n",
    "    text_y = bar.get_y() + bar_value\n",
    "    bar_color = bar.get_facecolor()\n",
    "    ax.text(text_x, text_y, text, ha='center', va='bottom', color=bar_color, size=font_size) \n",
    "\n",
    "  plt.show()"
   ]
  },
  {
   "cell_type": "code",
   "execution_count": 46,
   "id": "tmDBODD9b6MB",
   "metadata": {
    "colab": {
     "base_uri": "https://localhost:8080/",
     "height": 554
    },
    "executionInfo": {
     "elapsed": 1409,
     "status": "ok",
     "timestamp": 1681217548785,
     "user": {
      "displayName": "Stanley Nyarko Aboagye",
      "userId": "01236948860682234042"
     },
     "user_tz": -60
    },
    "id": "tmDBODD9b6MB",
    "outputId": "847740da-5911-433b-e4fd-5388a4c14724"
   },
   "outputs": [
    {
     "name": "stdout",
     "output_type": "stream",
     "text": [
      "[87.22843590794636, 85.83977972990691, 88.6198975083937, 85.92836257309942, 90.9090909090909, 12.771564092053639, 14.16022027009309, 11.38010249160629, 14.071637426900585, 9.090909090909092]\n",
      "<Axes.ArtistList of 10 patches>\n"
     ]
    },
    {
     "data": {
      "image/png": "[encoded data removed]",
      "text/plain": [
       "<Figure size 1400x400 with 1 Axes>"
      ]
     },
     "metadata": {},
     "output_type": "display_data"
    }
   ],
   "source": [
    "grouped_bar(pre_encoded_df[\"NAME_INCOME_TYPE\"], 'Income Type Analysis', 14) "
   ]
  },
  {
   "cell_type": "code",
   "execution_count": 47,
   "id": "9Dcf7KEFcCRm",
   "metadata": {
    "colab": {
     "base_uri": "https://localhost:8080/",
     "height": 609
    },
    "executionInfo": {
     "elapsed": 759,
     "status": "ok",
     "timestamp": 1681217549540,
     "user": {
      "displayName": "Stanley Nyarko Aboagye",
      "userId": "01236948860682234042"
     },
     "user_tz": -60
    },
    "id": "9Dcf7KEFcCRm",
    "outputId": "b281130c-e563-48d4-de30-9ab4dcd4c574"
   },
   "outputs": [
    {
     "name": "stdout",
     "output_type": "stream",
     "text": [
      "[87.08806658418625, 87.1863084153587, 83.97832817337462, 88.66279069767442, 75.86206896551724, 12.911933415813746, 12.813691584641305, 16.021671826625386, 11.337209302325581, 24.137931034482758]\n",
      "<Axes.ArtistList of 10 patches>\n"
     ]
    },
    {
     "data": {
      "image/png": "[encoded data removed]",
      "text/plain": [
       "<Figure size 1400x400 with 1 Axes>"
      ]
     },
     "metadata": {},
     "output_type": "display_data"
    }
   ],
   "source": [
    "grouped_bar(pre_encoded_df[\"NAME_EDUCATION_TYPE\"], 'Education Type Analysis', 14)"
   ]
  },
  {
   "cell_type": "code",
   "execution_count": 48,
   "id": "mz2lt4RMcCEu",
   "metadata": {
    "colab": {
     "base_uri": "https://localhost:8080/",
     "height": 540
    },
    "executionInfo": {
     "elapsed": 8,
     "status": "ok",
     "timestamp": 1681217549540,
     "user": {
      "displayName": "Stanley Nyarko Aboagye",
      "userId": "01236948860682234042"
     },
     "user_tz": -60
    },
    "id": "mz2lt4RMcCEu",
    "outputId": "373e8552-643b-4ed7-cf90-d888a93865ad"
   },
   "outputs": [
    {
     "name": "stdout",
     "output_type": "stream",
     "text": [
      "[86.18222891566265, 87.17711771177117, 85.94631175276336, 88.20754716981132, 88.32853025936599, 13.817771084337348, 12.822882288228824, 14.053688247236634, 11.79245283018868, 11.671469740634006]\n",
      "<Axes.ArtistList of 10 patches>\n"
     ]
    },
    {
     "data": {
      "image/png": "[encoded data removed]",
      "text/plain": [
       "<Figure size 1400x400 with 1 Axes>"
      ]
     },
     "metadata": {},
     "output_type": "display_data"
    }
   ],
   "source": [
    "grouped_bar(pre_encoded_df[\"NAME_FAMILY_STATUS\"], 'Family Status Analysis', 14)"
   ]
  },
  {
   "cell_type": "code",
   "execution_count": 49,
   "id": "XQ0v_hw-cCAR",
   "metadata": {
    "colab": {
     "base_uri": "https://localhost:8080/",
     "height": 576
    },
    "executionInfo": {
     "elapsed": 1261,
     "status": "ok",
     "timestamp": 1681217550797,
     "user": {
      "displayName": "Stanley Nyarko Aboagye",
      "userId": "01236948860682234042"
     },
     "user_tz": -60
    },
    "id": "XQ0v_hw-cCAR",
    "outputId": "0a8b5119-596c-48d8-8117-8e684022f0e4"
   },
   "outputs": [
    {
     "name": "stdout",
     "output_type": "stream",
     "text": [
      "[85.07462686567165, 87.21390175462321, 85.22167487684729, 85.79474342928661, 90.0, 84.29752066115702, 14.925373134328357, 12.786098245376786, 14.77832512315271, 14.205256570713393, 10.0, 15.702479338842975]\n",
      "<Axes.ArtistList of 12 patches>\n"
     ]
    },
    {
     "data": {
      "image/png": "[encoded data removed]",
      "text/plain": [
       "<Figure size 1200x400 with 1 Axes>"
      ]
     },
     "metadata": {},
     "output_type": "display_data"
    }
   ],
   "source": [
    "grouped_bar(pre_encoded_df[\"NAME_HOUSING_TYPE\"], 'Housing Type Analysis', 12)"
   ]
  },
  {
   "cell_type": "code",
   "execution_count": 50,
   "id": "nXS5ko_hcB8Y",
   "metadata": {
    "colab": {
     "base_uri": "https://localhost:8080/",
     "height": 495
    },
    "executionInfo": {
     "elapsed": 9,
     "status": "ok",
     "timestamp": 1681217550798,
     "user": {
      "displayName": "Stanley Nyarko Aboagye",
      "userId": "01236948860682234042"
     },
     "user_tz": -60
    },
    "id": "nXS5ko_hcB8Y",
    "outputId": "09d5333f-13f4-4b18-e1c4-a045a34ed88a"
   },
   "outputs": [
    {
     "name": "stdout",
     "output_type": "stream",
     "text": [
      "[88.41222404318904, 83.36380255941499, 87.67427122940431, 86.70886075949366, 86.96661310480272, 85.52875695732838, 86.34953464322648, 85.75384615384615, 85.73680063041765, 87.67123287671232, 85.34923339011925, 79.24528301886792, 85.4982206405694, 92.4914675767918, 90.84507042253522, 88.34355828220859, 81.57894736842105, 80.7017543859649, 85.07462686567165, 11.587775956810951, 16.63619744058501, 12.325728770595692, 13.291139240506327, 13.033386895197285, 14.471243042671613, 13.650465356773525, 14.246153846153847, 14.263199369582349, 12.32876712328767, 14.65076660988075, 20.754716981132077, 14.501779359430605, 7.508532423208192, 9.15492957746479, 11.65644171779141, 18.421052631578945, 19.298245614035086, 14.925373134328357]\n",
      "<Axes.ArtistList of 38 patches>\n"
     ]
    },
    {
     "data": {
      "image/png": "[encoded data removed]",
      "text/plain": [
       "<Figure size 1600x400 with 1 Axes>"
      ]
     },
     "metadata": {},
     "output_type": "display_data"
    }
   ],
   "source": [
    "grouped_bar(pre_encoded_df[\"OCCUPATION_TYPE\"], 'Occupation Type Analysis', 16, 6)"
   ]
  },
  {
   "cell_type": "code",
   "execution_count": 51,
   "id": "zGJfWYpKVVkh",
   "metadata": {
    "colab": {
     "base_uri": "https://localhost:8080/",
     "height": 270
    },
    "executionInfo": {
     "elapsed": 433,
     "status": "ok",
     "timestamp": 1681217551226,
     "user": {
      "displayName": "Stanley Nyarko Aboagye",
      "userId": "01236948860682234042"
     },
     "user_tz": -60
    },
    "id": "zGJfWYpKVVkh",
    "outputId": "a32288be-f0f4-43b5-caa6-d786592788a2"
   },
   "outputs": [
    {
     "data": {
      "text/html": [
       "<div>\n",
       "<style scoped>\n",
       "    .dataframe tbody tr th:only-of-type {\n",
       "        vertical-align: middle;\n",
       "    }\n",
       "\n",
       "    .dataframe tbody tr th {\n",
       "        vertical-align: top;\n",
       "    }\n",
       "\n",
       "    .dataframe thead th {\n",
       "        text-align: right;\n",
       "    }\n",
       "</style>\n",
       "<table border=\"1\" class=\"dataframe\">\n",
       "  <thead>\n",
       "    <tr style=\"text-align: right;\">\n",
       "      <th></th>\n",
       "      <th>CODE_GENDER</th>\n",
       "      <th>FLAG_OWN_CAR</th>\n",
       "      <th>FLAG_OWN_REALTY</th>\n",
       "      <th>CNT_CHILDREN</th>\n",
       "      <th>AMT_INCOME_TOTAL</th>\n",
       "      <th>NAME_INCOME_TYPE</th>\n",
       "      <th>NAME_EDUCATION_TYPE</th>\n",
       "      <th>NAME_FAMILY_STATUS</th>\n",
       "      <th>NAME_HOUSING_TYPE</th>\n",
       "      <th>DAYS_BIRTH</th>\n",
       "      <th>DAYS_EMPLOYED</th>\n",
       "      <th>FLAG_MOBIL</th>\n",
       "      <th>FLAG_WORK_PHONE</th>\n",
       "      <th>FLAG_PHONE</th>\n",
       "      <th>FLAG_EMAIL</th>\n",
       "      <th>OCCUPATION_TYPE</th>\n",
       "      <th>CNT_FAM_MEMBERS</th>\n",
       "      <th>STATUS</th>\n",
       "    </tr>\n",
       "  </thead>\n",
       "  <tbody>\n",
       "    <tr>\n",
       "      <th>0</th>\n",
       "      <td>M</td>\n",
       "      <td>Y</td>\n",
       "      <td>Y</td>\n",
       "      <td>0</td>\n",
       "      <td>427500.0</td>\n",
       "      <td>2</td>\n",
       "      <td>3</td>\n",
       "      <td>3</td>\n",
       "      <td>1</td>\n",
       "      <td>-12005</td>\n",
       "      <td>-4542</td>\n",
       "      <td>1</td>\n",
       "      <td>1</td>\n",
       "      <td>0</td>\n",
       "      <td>0</td>\n",
       "      <td>0</td>\n",
       "      <td>2.0</td>\n",
       "      <td>1</td>\n",
       "    </tr>\n",
       "    <tr>\n",
       "      <th>1</th>\n",
       "      <td>M</td>\n",
       "      <td>Y</td>\n",
       "      <td>Y</td>\n",
       "      <td>0</td>\n",
       "      <td>427500.0</td>\n",
       "      <td>2</td>\n",
       "      <td>3</td>\n",
       "      <td>3</td>\n",
       "      <td>1</td>\n",
       "      <td>-12005</td>\n",
       "      <td>-4542</td>\n",
       "      <td>1</td>\n",
       "      <td>1</td>\n",
       "      <td>0</td>\n",
       "      <td>0</td>\n",
       "      <td>0</td>\n",
       "      <td>2.0</td>\n",
       "      <td>1</td>\n",
       "    </tr>\n",
       "    <tr>\n",
       "      <th>2</th>\n",
       "      <td>M</td>\n",
       "      <td>Y</td>\n",
       "      <td>Y</td>\n",
       "      <td>0</td>\n",
       "      <td>112500.0</td>\n",
       "      <td>2</td>\n",
       "      <td>1</td>\n",
       "      <td>4</td>\n",
       "      <td>2</td>\n",
       "      <td>-21474</td>\n",
       "      <td>-1134</td>\n",
       "      <td>1</td>\n",
       "      <td>0</td>\n",
       "      <td>0</td>\n",
       "      <td>0</td>\n",
       "      <td>2</td>\n",
       "      <td>2.0</td>\n",
       "      <td>0</td>\n",
       "    </tr>\n",
       "    <tr>\n",
       "      <th>3</th>\n",
       "      <td>F</td>\n",
       "      <td>N</td>\n",
       "      <td>Y</td>\n",
       "      <td>0</td>\n",
       "      <td>270000.0</td>\n",
       "      <td>2</td>\n",
       "      <td>1</td>\n",
       "      <td>0</td>\n",
       "      <td>2</td>\n",
       "      <td>-19110</td>\n",
       "      <td>-3051</td>\n",
       "      <td>1</td>\n",
       "      <td>0</td>\n",
       "      <td>1</td>\n",
       "      <td>1</td>\n",
       "      <td>3</td>\n",
       "      <td>1.0</td>\n",
       "      <td>0</td>\n",
       "    </tr>\n",
       "    <tr>\n",
       "      <th>4</th>\n",
       "      <td>F</td>\n",
       "      <td>N</td>\n",
       "      <td>Y</td>\n",
       "      <td>0</td>\n",
       "      <td>270000.0</td>\n",
       "      <td>2</td>\n",
       "      <td>1</td>\n",
       "      <td>0</td>\n",
       "      <td>2</td>\n",
       "      <td>-19110</td>\n",
       "      <td>-3051</td>\n",
       "      <td>1</td>\n",
       "      <td>0</td>\n",
       "      <td>1</td>\n",
       "      <td>1</td>\n",
       "      <td>3</td>\n",
       "      <td>1.0</td>\n",
       "      <td>0</td>\n",
       "    </tr>\n",
       "  </tbody>\n",
       "</table>\n",
       "</div>"
      ],
      "text/plain": [
       "  CODE_GENDER FLAG_OWN_CAR FLAG_OWN_REALTY  CNT_CHILDREN  AMT_INCOME_TOTAL  \\\n",
       "0           M            Y               Y             0          427500.0   \n",
       "1           M            Y               Y             0          427500.0   \n",
       "2           M            Y               Y             0          112500.0   \n",
       "3           F            N               Y             0          270000.0   \n",
       "4           F            N               Y             0          270000.0   \n",
       "\n",
       "   NAME_INCOME_TYPE  NAME_EDUCATION_TYPE  NAME_FAMILY_STATUS  \\\n",
       "0                 2                    3                   3   \n",
       "1                 2                    3                   3   \n",
       "2                 2                    1                   4   \n",
       "3                 2                    1                   0   \n",
       "4                 2                    1                   0   \n",
       "\n",
       "   NAME_HOUSING_TYPE  DAYS_BIRTH  DAYS_EMPLOYED  FLAG_MOBIL  FLAG_WORK_PHONE  \\\n",
       "0                  1      -12005          -4542           1                1   \n",
       "1                  1      -12005          -4542           1                1   \n",
       "2                  2      -21474          -1134           1                0   \n",
       "3                  2      -19110          -3051           1                0   \n",
       "4                  2      -19110          -3051           1                0   \n",
       "\n",
       "   FLAG_PHONE  FLAG_EMAIL  OCCUPATION_TYPE  CNT_FAM_MEMBERS  STATUS  \n",
       "0           0           0                0              2.0       1  \n",
       "1           0           0                0              2.0       1  \n",
       "2           0           0                2              2.0       0  \n",
       "3           1           1                3              1.0       0  \n",
       "4           1           1                3              1.0       0  "
      ]
     },
     "execution_count": 51,
     "metadata": {},
     "output_type": "execute_result"
    }
   ],
   "source": [
    "# Encoding NAME_INCOME_TYPE column\n",
    "name_income_type_mapper = {'Working': 2, 'Commercial associate': 2, 'Pensioner': 1, 'State servant': 3, 'Student': 0}\n",
    "pre_encoded_df[\"NAME_INCOME_TYPE\"] = pre_encoded_df[\"NAME_INCOME_TYPE\"].replace(name_income_type_mapper)\n",
    "\n",
    "#  Encoding NAME_EDUCATION_TYPE column\n",
    "name_education_type_mapper = {'Higher education': 3, 'Secondary / secondary special': 1, 'Incomplete higher': 2,\n",
    " 'Lower secondary': 0, 'Academic degree': 3}\n",
    "pre_encoded_df[\"NAME_EDUCATION_TYPE\"] = pre_encoded_df[\"NAME_EDUCATION_TYPE\"].replace(name_education_type_mapper)\n",
    "\n",
    "#  Encoding NAME_FAMILY_STATUS column\n",
    "name_family_status_mapper = {'Civil marriage': 3, 'Married': 4, 'Single / not married': 0, 'Separated': 1, 'Widow': 2}\n",
    "pre_encoded_df[\"NAME_FAMILY_STATUS\"] = pre_encoded_df[\"NAME_FAMILY_STATUS\"].replace(name_family_status_mapper)\n",
    "\n",
    "#  Encoding NAME_HOUSING_TYPE column\n",
    "name_housing_type_mapper = {'Rented apartment': 1, 'House / apartment': 2, 'Municipal apartment': 1, 'With parents': 0, \n",
    "                            'Co-op apartment': 1, 'Office apartment': 1}\n",
    "pre_encoded_df[\"NAME_HOUSING_TYPE\"] = pre_encoded_df[\"NAME_HOUSING_TYPE\"].replace(name_housing_type_mapper)\n",
    "\n",
    "#  Encoding OCCUPATION_TYPE column\n",
    "occupation_type_mapper = {'Other': 0, 'Security staff': 2, 'Sales staff': 3, 'Accountants': 6, 'Laborers': 1, 'Managers': 5, 'Drivers': 2,\n",
    "                           'Core staff': 4, 'High skill tech staff': 6, 'Cleaning staff': 1, 'Private service staff': 4, 'Cooking staff': 3, \n",
    "                           'Low-skill Laborers': 0, 'Medicine staff': 6, 'Secretaries': 3, 'Waiters/barmen staff': 2, 'HR staff': 4, \n",
    "                           'Realty agents': 4, 'IT staff': 5}\n",
    "pre_encoded_df[\"OCCUPATION_TYPE\"] = pre_encoded_df[\"OCCUPATION_TYPE\"].replace(occupation_type_mapper)\n",
    "\n",
    "pre_encoded_df.head()"
   ]
  },
  {
   "cell_type": "code",
   "execution_count": 52,
   "id": "qVp0vnBYAxAQ",
   "metadata": {
    "colab": {
     "base_uri": "https://localhost:8080/",
     "height": 299
    },
    "executionInfo": {
     "elapsed": 10,
     "status": "ok",
     "timestamp": 1681217551226,
     "user": {
      "displayName": "Stanley Nyarko Aboagye",
      "userId": "01236948860682234042"
     },
     "user_tz": -60
    },
    "id": "qVp0vnBYAxAQ",
    "outputId": "82abb015-b723-44a2-b3f1-2a2bd7b14e84",
    "scrolled": true
   },
   "outputs": [
    {
     "data": {
      "text/html": [
       "<div>\n",
       "<style scoped>\n",
       "    .dataframe tbody tr th:only-of-type {\n",
       "        vertical-align: middle;\n",
       "    }\n",
       "\n",
       "    .dataframe tbody tr th {\n",
       "        vertical-align: top;\n",
       "    }\n",
       "\n",
       "    .dataframe thead th {\n",
       "        text-align: right;\n",
       "    }\n",
       "</style>\n",
       "<table border=\"1\" class=\"dataframe\">\n",
       "  <thead>\n",
       "    <tr style=\"text-align: right;\">\n",
       "      <th></th>\n",
       "      <th>0</th>\n",
       "      <th>1</th>\n",
       "      <th>2</th>\n",
       "      <th>3</th>\n",
       "      <th>4</th>\n",
       "    </tr>\n",
       "  </thead>\n",
       "  <tbody>\n",
       "    <tr>\n",
       "      <th>CNT_CHILDREN</th>\n",
       "      <td>0.0</td>\n",
       "      <td>0.0</td>\n",
       "      <td>0.0</td>\n",
       "      <td>0.0</td>\n",
       "      <td>0.0</td>\n",
       "    </tr>\n",
       "    <tr>\n",
       "      <th>AMT_INCOME_TOTAL</th>\n",
       "      <td>427500.0</td>\n",
       "      <td>427500.0</td>\n",
       "      <td>112500.0</td>\n",
       "      <td>270000.0</td>\n",
       "      <td>270000.0</td>\n",
       "    </tr>\n",
       "    <tr>\n",
       "      <th>NAME_INCOME_TYPE</th>\n",
       "      <td>2.0</td>\n",
       "      <td>2.0</td>\n",
       "      <td>2.0</td>\n",
       "      <td>2.0</td>\n",
       "      <td>2.0</td>\n",
       "    </tr>\n",
       "    <tr>\n",
       "      <th>NAME_EDUCATION_TYPE</th>\n",
       "      <td>3.0</td>\n",
       "      <td>3.0</td>\n",
       "      <td>1.0</td>\n",
       "      <td>1.0</td>\n",
       "      <td>1.0</td>\n",
       "    </tr>\n",
       "    <tr>\n",
       "      <th>NAME_FAMILY_STATUS</th>\n",
       "      <td>3.0</td>\n",
       "      <td>3.0</td>\n",
       "      <td>4.0</td>\n",
       "      <td>0.0</td>\n",
       "      <td>0.0</td>\n",
       "    </tr>\n",
       "    <tr>\n",
       "      <th>NAME_HOUSING_TYPE</th>\n",
       "      <td>1.0</td>\n",
       "      <td>1.0</td>\n",
       "      <td>2.0</td>\n",
       "      <td>2.0</td>\n",
       "      <td>2.0</td>\n",
       "    </tr>\n",
       "    <tr>\n",
       "      <th>DAYS_BIRTH</th>\n",
       "      <td>-12005.0</td>\n",
       "      <td>-12005.0</td>\n",
       "      <td>-21474.0</td>\n",
       "      <td>-19110.0</td>\n",
       "      <td>-19110.0</td>\n",
       "    </tr>\n",
       "    <tr>\n",
       "      <th>DAYS_EMPLOYED</th>\n",
       "      <td>-4542.0</td>\n",
       "      <td>-4542.0</td>\n",
       "      <td>-1134.0</td>\n",
       "      <td>-3051.0</td>\n",
       "      <td>-3051.0</td>\n",
       "    </tr>\n",
       "    <tr>\n",
       "      <th>FLAG_MOBIL</th>\n",
       "      <td>1.0</td>\n",
       "      <td>1.0</td>\n",
       "      <td>1.0</td>\n",
       "      <td>1.0</td>\n",
       "      <td>1.0</td>\n",
       "    </tr>\n",
       "    <tr>\n",
       "      <th>FLAG_WORK_PHONE</th>\n",
       "      <td>1.0</td>\n",
       "      <td>1.0</td>\n",
       "      <td>0.0</td>\n",
       "      <td>0.0</td>\n",
       "      <td>0.0</td>\n",
       "    </tr>\n",
       "    <tr>\n",
       "      <th>FLAG_PHONE</th>\n",
       "      <td>0.0</td>\n",
       "      <td>0.0</td>\n",
       "      <td>0.0</td>\n",
       "      <td>1.0</td>\n",
       "      <td>1.0</td>\n",
       "    </tr>\n",
       "    <tr>\n",
       "      <th>FLAG_EMAIL</th>\n",
       "      <td>0.0</td>\n",
       "      <td>0.0</td>\n",
       "      <td>0.0</td>\n",
       "      <td>1.0</td>\n",
       "      <td>1.0</td>\n",
       "    </tr>\n",
       "    <tr>\n",
       "      <th>OCCUPATION_TYPE</th>\n",
       "      <td>0.0</td>\n",
       "      <td>0.0</td>\n",
       "      <td>2.0</td>\n",
       "      <td>3.0</td>\n",
       "      <td>3.0</td>\n",
       "    </tr>\n",
       "    <tr>\n",
       "      <th>CNT_FAM_MEMBERS</th>\n",
       "      <td>2.0</td>\n",
       "      <td>2.0</td>\n",
       "      <td>2.0</td>\n",
       "      <td>1.0</td>\n",
       "      <td>1.0</td>\n",
       "    </tr>\n",
       "    <tr>\n",
       "      <th>CODE_GENDER_F</th>\n",
       "      <td>0.0</td>\n",
       "      <td>0.0</td>\n",
       "      <td>0.0</td>\n",
       "      <td>1.0</td>\n",
       "      <td>1.0</td>\n",
       "    </tr>\n",
       "    <tr>\n",
       "      <th>CODE_GENDER_M</th>\n",
       "      <td>1.0</td>\n",
       "      <td>1.0</td>\n",
       "      <td>1.0</td>\n",
       "      <td>0.0</td>\n",
       "      <td>0.0</td>\n",
       "    </tr>\n",
       "    <tr>\n",
       "      <th>FLAG_OWN_CAR_N</th>\n",
       "      <td>0.0</td>\n",
       "      <td>0.0</td>\n",
       "      <td>0.0</td>\n",
       "      <td>1.0</td>\n",
       "      <td>1.0</td>\n",
       "    </tr>\n",
       "    <tr>\n",
       "      <th>FLAG_OWN_CAR_Y</th>\n",
       "      <td>1.0</td>\n",
       "      <td>1.0</td>\n",
       "      <td>1.0</td>\n",
       "      <td>0.0</td>\n",
       "      <td>0.0</td>\n",
       "    </tr>\n",
       "    <tr>\n",
       "      <th>FLAG_OWN_REALTY_N</th>\n",
       "      <td>0.0</td>\n",
       "      <td>0.0</td>\n",
       "      <td>0.0</td>\n",
       "      <td>0.0</td>\n",
       "      <td>0.0</td>\n",
       "    </tr>\n",
       "    <tr>\n",
       "      <th>FLAG_OWN_REALTY_Y</th>\n",
       "      <td>1.0</td>\n",
       "      <td>1.0</td>\n",
       "      <td>1.0</td>\n",
       "      <td>1.0</td>\n",
       "      <td>1.0</td>\n",
       "    </tr>\n",
       "    <tr>\n",
       "      <th>STATUS</th>\n",
       "      <td>1.0</td>\n",
       "      <td>1.0</td>\n",
       "      <td>0.0</td>\n",
       "      <td>0.0</td>\n",
       "      <td>0.0</td>\n",
       "    </tr>\n",
       "  </tbody>\n",
       "</table>\n",
       "</div>"
      ],
      "text/plain": [
       "                            0         1         2         3         4\n",
       "CNT_CHILDREN              0.0       0.0       0.0       0.0       0.0\n",
       "AMT_INCOME_TOTAL     427500.0  427500.0  112500.0  270000.0  270000.0\n",
       "NAME_INCOME_TYPE          2.0       2.0       2.0       2.0       2.0\n",
       "NAME_EDUCATION_TYPE       3.0       3.0       1.0       1.0       1.0\n",
       "NAME_FAMILY_STATUS        3.0       3.0       4.0       0.0       0.0\n",
       "NAME_HOUSING_TYPE         1.0       1.0       2.0       2.0       2.0\n",
       "DAYS_BIRTH           -12005.0  -12005.0  -21474.0  -19110.0  -19110.0\n",
       "DAYS_EMPLOYED         -4542.0   -4542.0   -1134.0   -3051.0   -3051.0\n",
       "FLAG_MOBIL                1.0       1.0       1.0       1.0       1.0\n",
       "FLAG_WORK_PHONE           1.0       1.0       0.0       0.0       0.0\n",
       "FLAG_PHONE                0.0       0.0       0.0       1.0       1.0\n",
       "FLAG_EMAIL                0.0       0.0       0.0       1.0       1.0\n",
       "OCCUPATION_TYPE           0.0       0.0       2.0       3.0       3.0\n",
       "CNT_FAM_MEMBERS           2.0       2.0       2.0       1.0       1.0\n",
       "CODE_GENDER_F             0.0       0.0       0.0       1.0       1.0\n",
       "CODE_GENDER_M             1.0       1.0       1.0       0.0       0.0\n",
       "FLAG_OWN_CAR_N            0.0       0.0       0.0       1.0       1.0\n",
       "FLAG_OWN_CAR_Y            1.0       1.0       1.0       0.0       0.0\n",
       "FLAG_OWN_REALTY_N         0.0       0.0       0.0       0.0       0.0\n",
       "FLAG_OWN_REALTY_Y         1.0       1.0       1.0       1.0       1.0\n",
       "STATUS                    1.0       1.0       0.0       0.0       0.0"
      ]
     },
     "execution_count": 52,
     "metadata": {},
     "output_type": "execute_result"
    }
   ],
   "source": [
    "# Encoding binary categorical (CODE_GENDER, FLAG_OWN_CAR, FLAG_OWN_REALTY) variables using get_dummies\n",
    "final_df = pd.get_dummies(pre_encoded_df)\n",
    "\n",
    "# Move the status index to the end\n",
    "final_df = final_df.reindex(columns = [col for col in final_df.columns if col != 'STATUS'] + ['STATUS'])\n",
    "final_df.head().T"
   ]
  },
  {
   "cell_type": "code",
   "execution_count": 53,
   "id": "61f66e15",
   "metadata": {
    "colab": {
     "base_uri": "https://localhost:8080/"
    },
    "executionInfo": {
     "elapsed": 10,
     "status": "ok",
     "timestamp": 1681217551227,
     "user": {
      "displayName": "Stanley Nyarko Aboagye",
      "userId": "01236948860682234042"
     },
     "user_tz": -60
    },
    "id": "61f66e15",
    "outputId": "26b53504-c889-457a-f3c6-03771aebb0b3",
    "scrolled": true
   },
   "outputs": [
    {
     "name": "stdout",
     "output_type": "stream",
     "text": [
      "Good Credit: 28819\n",
      "Bad Credit: 4291\n"
     ]
    }
   ],
   "source": [
    "print(f\"Good Credit: {len(final_df[final_df['STATUS'] == 0])}\")\n",
    "print(f\"Bad Credit: {len(final_df[final_df['STATUS'] == 1])}\")"
   ]
  },
  {
   "cell_type": "code",
   "execution_count": 54,
   "id": "43f375f5",
   "metadata": {
    "executionInfo": {
     "elapsed": 7,
     "status": "ok",
     "timestamp": 1681217551227,
     "user": {
      "displayName": "Stanley Nyarko Aboagye",
      "userId": "01236948860682234042"
     },
     "user_tz": -60
    },
    "id": "43f375f5"
   },
   "outputs": [],
   "source": [
    "final_df.to_csv(\"Output/full_data.csv\", index=False)"
   ]
  }
 ],
 "metadata": {
  "colab": {
   "provenance": []
  },
  "kernelspec": {
   "display_name": "Python 3 (ipykernel)",
   "language": "python",
   "name": "python3"
  },
  "language_info": {
   "codemirror_mode": {
    "name": "ipython",
    "version": 3
   },
   "file_extension": ".py",
   "mimetype": "text/x-python",
   "name": "python",
   "nbconvert_exporter": "python",
   "pygments_lexer": "ipython3",
   "version": "3.9.13"
  }
 },
 "nbformat": 4,
 "nbformat_minor": 5
}
